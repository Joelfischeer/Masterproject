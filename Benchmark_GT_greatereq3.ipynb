{
 "cells": [
  {
   "cell_type": "code",
   "execution_count": 1,
   "metadata": {},
   "outputs": [],
   "source": [
    "import pandas as pd\n",
    "import duckdb\n",
    "import numpy as np\n"
   ]
  },
  {
   "cell_type": "code",
   "execution_count": 2,
   "metadata": {},
   "outputs": [
    {
     "data": {
      "text/html": [
       "<span style=\"None\">Connecting to &#x27;duckdb:///:memory:&#x27;</span>"
      ],
      "text/plain": [
       "Connecting to 'duckdb:///:memory:'"
      ]
     },
     "metadata": {},
     "output_type": "display_data"
    }
   ],
   "source": [
    "%load_ext sql\n",
    "%sql duckdb:///:memory:\n",
    "%config SqlMagic.displaylimit = 0\n",
    "%config SqlMagic.autopandas = True"
   ]
  },
  {
   "cell_type": "code",
   "execution_count": 3,
   "metadata": {},
   "outputs": [
    {
     "data": {
      "text/html": [
       "<span style=\"None\">Running query in &#x27;duckdb:///:memory:&#x27;</span>"
      ],
      "text/plain": [
       "Running query in 'duckdb:///:memory:'"
      ]
     },
     "metadata": {},
     "output_type": "display_data"
    },
    {
     "data": {
      "text/html": [
       "<div>\n",
       "<style scoped>\n",
       "    .dataframe tbody tr th:only-of-type {\n",
       "        vertical-align: middle;\n",
       "    }\n",
       "\n",
       "    .dataframe tbody tr th {\n",
       "        vertical-align: top;\n",
       "    }\n",
       "\n",
       "    .dataframe thead th {\n",
       "        text-align: right;\n",
       "    }\n",
       "</style>\n",
       "<table border=\"1\" class=\"dataframe\">\n",
       "  <thead>\n",
       "    <tr style=\"text-align: right;\">\n",
       "      <th></th>\n",
       "      <th>Success</th>\n",
       "    </tr>\n",
       "  </thead>\n",
       "  <tbody>\n",
       "  </tbody>\n",
       "</table>\n",
       "</div>"
      ],
      "text/plain": [
       "Empty DataFrame\n",
       "Columns: [Success]\n",
       "Index: []"
      ]
     },
     "execution_count": 3,
     "metadata": {},
     "output_type": "execute_result"
    }
   ],
   "source": [
    "%%sql \n",
    "INSTALL spatial;\n",
    "LOAD spatial;"
   ]
  },
  {
   "cell_type": "code",
   "execution_count": 4,
   "metadata": {},
   "outputs": [
    {
     "data": {
      "text/html": [
       "<span style=\"None\">Running query in &#x27;duckdb:///:memory:&#x27;</span>"
      ],
      "text/plain": [
       "Running query in 'duckdb:///:memory:'"
      ]
     },
     "metadata": {},
     "output_type": "display_data"
    }
   ],
   "source": [
    "\n",
    "%%sql BENCHMARK <<\n",
    "drop table if exists BENCHMARK;\n",
    "CREATE TABLE BENCHMARK AS \n",
    "    SELECT * FROM st_read('../BENCHMARK_KSA-study-histological-groundtruth Master.xlsx', layer = 'BENCHMARK', open_options=['HEADERS=FORCE', 'FIELD_TYPES=STRING'])"
   ]
  },
  {
   "cell_type": "markdown",
   "metadata": {},
   "source": [
    "    filter out the NOK and ST11 as it does not have an entry in the contingency table"
   ]
  },
  {
   "cell_type": "code",
   "execution_count": 5,
   "metadata": {},
   "outputs": [
    {
     "data": {
      "text/html": [
       "<span style=\"None\">Running query in &#x27;duckdb:///:memory:&#x27;</span>"
      ],
      "text/plain": [
       "Running query in 'duckdb:///:memory:'"
      ]
     },
     "metadata": {},
     "output_type": "display_data"
    }
   ],
   "source": [
    "%%sql BENCHMARK_ok <<\n",
    "drop table if exists BENCHMARK_ok;\n",
    "create table BENCHMARK_ok as\n",
    "    select * from BENCHMARK\n",
    "    where Comment = 'ok' AND Studies_ID != 'ST11' AND Studies_ID != '45' AND Studies_ID != 'ST1' AND Studies_ID != 'ST10' AND Studies_ID != '7875886';\n",
    "\n",
    "select * from BENCHMARK_ok"
   ]
  },
  {
   "cell_type": "markdown",
   "metadata": {},
   "source": [
    "# Get the number of patients with a TBx Gleason score of >= 3:"
   ]
  },
  {
   "cell_type": "code",
   "execution_count": 6,
   "metadata": {},
   "outputs": [
    {
     "data": {
      "text/html": [
       "<span style=\"None\">Running query in &#x27;duckdb:///:memory:&#x27;</span>"
      ],
      "text/plain": [
       "Running query in 'duckdb:///:memory:'"
      ]
     },
     "metadata": {},
     "output_type": "display_data"
    }
   ],
   "source": [
    "%%sql TBx_score_greatereq_3 <<\n",
    "\n",
    "select \n",
    "Studies_ID,\n",
    "other_aval_ID,\n",
    "Site,\n",
    "Comment,\n",
    "TBx_Re_Base,\n",
    "TBx_Re_Mid,\n",
    "TBx_Re_Apex,\n",
    "TBx_Li_Base,\n",
    "TBx_Li_Mid,\n",
    "TBx_Li_Apex,\n",
    "TBx_Li_Lateral,\n",
    "TBx_Li_Medial,\n",
    "TBx_Re_Lateral,\n",
    "TBx_Re_Medial\n",
    "\n",
    "from BENCHMARK_ok\n",
    "where TBx_Re_Base >= 3 OR TBx_Re_Mid >= 3 OR TBx_Re_Apex >= 3 OR TBx_Li_Base >= 3 OR TBx_Li_Mid >= 3 OR TBx_Li_Apex >= 3 OR TBx_Li_lateral >= 3 OR TBx_Li_medial >= 3 OR TBx_Re_lateral >= 3 OR TBx_Re_medial >= 3"
   ]
  },
  {
   "cell_type": "code",
   "execution_count": 7,
   "metadata": {},
   "outputs": [],
   "source": [
    "def make_true_false(value):\n",
    "    if value != None:\n",
    "        return value\n",
    "    return 'No TBx'\n"
   ]
  },
  {
   "cell_type": "code",
   "execution_count": 8,
   "metadata": {},
   "outputs": [],
   "source": [
    "TBx_score_greatereq_3=TBx_score_greatereq_3.rename(columns = {'TBx_Li_lateral':'TBx_Li_Lateral',\n",
    "                                                              'TBx_Li_medial':'TBx_Li_Medial',\n",
    "                                                              'TBx_Re_lateral':'TBx_Re_Lateral',\n",
    "                                                              'TBx_Re_medial':'TBx_Re_Medial'})"
   ]
  },
  {
   "cell_type": "code",
   "execution_count": 9,
   "metadata": {},
   "outputs": [],
   "source": [
    "TBx_score_greatereq_3['TBx_Re_Base'] = TBx_score_greatereq_3['TBx_Re_Base'].apply(make_true_false)\n",
    "TBx_score_greatereq_3['TBx_Re_Mid'] = TBx_score_greatereq_3['TBx_Re_Mid'].apply(make_true_false)\n",
    "TBx_score_greatereq_3['TBx_Re_Apex'] = TBx_score_greatereq_3['TBx_Re_Apex'].apply(make_true_false)\n",
    "TBx_score_greatereq_3['TBx_Li_Base'] = TBx_score_greatereq_3['TBx_Li_Base'].apply(make_true_false)\n",
    "TBx_score_greatereq_3['TBx_Li_Mid'] = TBx_score_greatereq_3['TBx_Li_Mid'].apply(make_true_false)\n",
    "TBx_score_greatereq_3['TBx_Li_Apex'] = TBx_score_greatereq_3['TBx_Li_Apex'].apply(make_true_false)\n",
    "TBx_score_greatereq_3['TBx_Li_Lateral'] = TBx_score_greatereq_3['TBx_Li_Lateral'].apply(make_true_false)\n",
    "TBx_score_greatereq_3['TBx_Li_Medial'] = TBx_score_greatereq_3['TBx_Li_Medial'].apply(make_true_false)\n",
    "TBx_score_greatereq_3['TBx_Re_Lateral'] = TBx_score_greatereq_3['TBx_Re_Lateral'].apply(make_true_false)\n",
    "TBx_score_greatereq_3['TBx_Re_Medial'] = TBx_score_greatereq_3['TBx_Re_Medial'].apply(make_true_false)"
   ]
  },
  {
   "cell_type": "code",
   "execution_count": 10,
   "metadata": {},
   "outputs": [],
   "source": [
    "TBx_score_greatereq_3.loc['Number_of_TBx_greaterequal_3'] = ''\n",
    "\n",
    "for column in TBx_score_greatereq_3.columns:\n",
    "    sum = 0\n",
    "    for rowname in TBx_score_greatereq_3.index:\n",
    "        if TBx_score_greatereq_3.loc[rowname,column] == '':\n",
    "            continue\n",
    "\n",
    "        if TBx_score_greatereq_3.loc[rowname,column] in ['3','4','5','6','7','8','9','10']:\n",
    "            sum = sum + 1\n",
    "    TBx_score_greatereq_3.loc['Number_of_TBx_greaterequal_3',column] = sum"
   ]
  },
  {
   "cell_type": "code",
   "execution_count": 11,
   "metadata": {},
   "outputs": [
    {
     "name": "stdout",
     "output_type": "stream",
     "text": [
      "Number of Cases with TBx (Gleason score >= 3) at site KSA: 12\n",
      "Number of Cases with TBx (Gleason score >= 3) at site Bellinzona: 5\n",
      "Number of Cases with TBx (Gleason score >= 3) at site Triemli: 10\n"
     ]
    }
   ],
   "source": [
    "#Number of patients per Site with a Gleason score >=3:\n",
    "sum_ksa = 0\n",
    "sum_bellinzona = 0\n",
    "sum_triemli = 0\n",
    "\n",
    "for Case in TBx_score_greatereq_3.index:\n",
    "    if TBx_score_greatereq_3.loc[Case,'Site'] == 'KSA':\n",
    "        sum_ksa = sum_ksa + 1\n",
    "    if TBx_score_greatereq_3.loc[Case,'Site'] == 'Bellinzona':\n",
    "        sum_bellinzona = sum_bellinzona + 1\n",
    "    if TBx_score_greatereq_3.loc[Case,'Site'] == 'Triemli':\n",
    "        sum_triemli = sum_triemli + 1   \n",
    "\n",
    "print('Number of Cases with TBx (Gleason score >= 3) at site KSA: ' + str(sum_ksa))\n",
    "print('Number of Cases with TBx (Gleason score >= 3) at site Bellinzona: ' + str(sum_bellinzona))\n",
    "print('Number of Cases with TBx (Gleason score >= 3) at site Triemli: ' + str(sum_triemli))"
   ]
  },
  {
   "cell_type": "markdown",
   "metadata": {},
   "source": [
    "    Get the Manual parts of the contingency tables for each Reader:"
   ]
  },
  {
   "cell_type": "code",
   "execution_count": 12,
   "metadata": {},
   "outputs": [
    {
     "data": {
      "text/html": [
       "<span style=\"None\">Running query in &#x27;duckdb:///:memory:&#x27;</span>"
      ],
      "text/plain": [
       "Running query in 'duckdb:///:memory:'"
      ]
     },
     "metadata": {},
     "output_type": "display_data"
    }
   ],
   "source": [
    "%%sql contingency_ksa_reader1 <<\n",
    "drop table if exists contingency_ksa_reader1;\n",
    "create table contingency_ksa_reader1 as\n",
    "    select * from st_read('../20230814_KSA-study_Contingency-Prostate-Areas_Master_moved_entries.xlsx', layer = 'Hospital_A', open_options=['HEADERS=FORCE', 'FIELD_TYPES=STRING'])\n",
    "    where Annotation_Process = 'rad' AND Annotator = 'rad1';\n",
    "\n",
    "select * from contingency_ksa_reader1"
   ]
  },
  {
   "cell_type": "code",
   "execution_count": 13,
   "metadata": {},
   "outputs": [
    {
     "data": {
      "text/html": [
       "<span style=\"None\">Running query in &#x27;duckdb:///:memory:&#x27;</span>"
      ],
      "text/plain": [
       "Running query in 'duckdb:///:memory:'"
      ]
     },
     "metadata": {},
     "output_type": "display_data"
    }
   ],
   "source": [
    "%%sql contingency_ksa_reader2 <<\n",
    "drop table if exists contingency_ksa_reader2;\n",
    "create table contingency_ksa_reader2 as\n",
    "    select * from st_read('../20230814_KSA-study_Contingency-Prostate-Areas_Master_moved_entries.xlsx', layer = 'Hospital_A', open_options=['HEADERS=FORCE', 'FIELD_TYPES=STRING'])\n",
    "    where Annotation_Process = 'rad' AND Annotator = 'rad2';\n",
    "\n",
    "select * from contingency_ksa_reader2"
   ]
  },
  {
   "cell_type": "code",
   "execution_count": 14,
   "metadata": {},
   "outputs": [
    {
     "data": {
      "text/html": [
       "<span style=\"None\">Running query in &#x27;duckdb:///:memory:&#x27;</span>"
      ],
      "text/plain": [
       "Running query in 'duckdb:///:memory:'"
      ]
     },
     "metadata": {},
     "output_type": "display_data"
    }
   ],
   "source": [
    "%%sql contingency_ksa_reader3 <<\n",
    "drop table if exists contingency_ksa_reader3;\n",
    "create table contingency_ksa_reader3 as\n",
    "    select * from st_read('../20230814_KSA-study_Contingency-Prostate-Areas_Master_moved_entries.xlsx', layer = 'Hospital_A', open_options=['HEADERS=FORCE', 'FIELD_TYPES=STRING'])\n",
    "    where Annotation_Process = 'rad' AND Annotator = 'rad3';\n",
    "\n",
    "select * from contingency_ksa_reader3"
   ]
  },
  {
   "cell_type": "code",
   "execution_count": 15,
   "metadata": {},
   "outputs": [
    {
     "data": {
      "text/html": [
       "<span style=\"None\">Running query in &#x27;duckdb:///:memory:&#x27;</span>"
      ],
      "text/plain": [
       "Running query in 'duckdb:///:memory:'"
      ]
     },
     "metadata": {},
     "output_type": "display_data"
    }
   ],
   "source": [
    "%%sql contingency_bellinzona_reader1 <<\n",
    "drop table if exists contingency_bellinzona_reader1;\n",
    "create table contingency_bellinzona_reader1 as\n",
    "    select * from st_read('../20230814_KSA-study_Contingency-Prostate-Areas_Master_moved_entries.xlsx', layer = 'Hospital_B', open_options=['HEADERS=FORCE', 'FIELD_TYPES=STRING'])\n",
    "    where Annotation_Process = 'rad' AND Annotator = 'rad1';\n",
    "\n",
    "select * from contingency_bellinzona_reader1"
   ]
  },
  {
   "cell_type": "code",
   "execution_count": 16,
   "metadata": {},
   "outputs": [
    {
     "data": {
      "text/html": [
       "<span style=\"None\">Running query in &#x27;duckdb:///:memory:&#x27;</span>"
      ],
      "text/plain": [
       "Running query in 'duckdb:///:memory:'"
      ]
     },
     "metadata": {},
     "output_type": "display_data"
    }
   ],
   "source": [
    "%%sql contingency_bellinzona_reader2 <<\n",
    "drop table if exists contingency_bellinzona_reader2;\n",
    "create table contingency_bellinzona_reader2 as\n",
    "    select * from st_read('../20230814_KSA-study_Contingency-Prostate-Areas_Master_moved_entries.xlsx', layer = 'Hospital_B', open_options=['HEADERS=FORCE', 'FIELD_TYPES=STRING'])\n",
    "    where Annotation_Process = 'rad' AND Annotator = 'rad2';\n",
    "\n",
    "select * from contingency_bellinzona_reader2"
   ]
  },
  {
   "cell_type": "code",
   "execution_count": 17,
   "metadata": {},
   "outputs": [
    {
     "data": {
      "text/html": [
       "<span style=\"None\">Running query in &#x27;duckdb:///:memory:&#x27;</span>"
      ],
      "text/plain": [
       "Running query in 'duckdb:///:memory:'"
      ]
     },
     "metadata": {},
     "output_type": "display_data"
    }
   ],
   "source": [
    "%%sql contingency_bellinzona_reader3 <<\n",
    "drop table if exists contingency_bellinzona_reader3;\n",
    "create table contingency_bellinzona_reader3 as\n",
    "    select * from st_read('../20230814_KSA-study_Contingency-Prostate-Areas_Master_moved_entries.xlsx', layer = 'Hospital_B', open_options=['HEADERS=FORCE', 'FIELD_TYPES=STRING'])\n",
    "    where Annotation_Process = 'rad' AND Annotator = 'rad3';\n",
    "\n",
    "select * from contingency_bellinzona_reader3"
   ]
  },
  {
   "cell_type": "code",
   "execution_count": 18,
   "metadata": {},
   "outputs": [
    {
     "data": {
      "text/html": [
       "<span style=\"None\">Running query in &#x27;duckdb:///:memory:&#x27;</span>"
      ],
      "text/plain": [
       "Running query in 'duckdb:///:memory:'"
      ]
     },
     "metadata": {},
     "output_type": "display_data"
    }
   ],
   "source": [
    "%%sql contingency_triemli_reader1 <<\n",
    "drop table if exists contingency_triemli_reader1;\n",
    "create table contingency_triemli_reader1 as\n",
    "    select * from st_read('../20230814_KSA-study_Contingency-Prostate-Areas_Master_moved_entries.xlsx', layer = 'Hospital_', open_options=['HEADERS=FORCE', 'FIELD_TYPES=STRING'])\n",
    "    where Annotation_Process = 'rad' AND Annotator = 'rad1';\n",
    "\n",
    "select * from contingency_triemli_reader1"
   ]
  },
  {
   "cell_type": "code",
   "execution_count": 19,
   "metadata": {},
   "outputs": [
    {
     "data": {
      "text/html": [
       "<span style=\"None\">Running query in &#x27;duckdb:///:memory:&#x27;</span>"
      ],
      "text/plain": [
       "Running query in 'duckdb:///:memory:'"
      ]
     },
     "metadata": {},
     "output_type": "display_data"
    }
   ],
   "source": [
    "%%sql contingency_triemli_reader2 <<\n",
    "drop table if exists contingency_triemli_reader2;\n",
    "create table contingency_triemli_reader2 as\n",
    "    select * from st_read('../20230814_KSA-study_Contingency-Prostate-Areas_Master_moved_entries.xlsx', layer = 'Hospital_', open_options=['HEADERS=FORCE', 'FIELD_TYPES=STRING'])\n",
    "    where Annotation_Process = 'rad'AND Annotator = 'rad2';\n",
    "\n",
    "select * from contingency_triemli_reader2"
   ]
  },
  {
   "cell_type": "code",
   "execution_count": 20,
   "metadata": {},
   "outputs": [
    {
     "data": {
      "text/html": [
       "<span style=\"None\">Running query in &#x27;duckdb:///:memory:&#x27;</span>"
      ],
      "text/plain": [
       "Running query in 'duckdb:///:memory:'"
      ]
     },
     "metadata": {},
     "output_type": "display_data"
    }
   ],
   "source": [
    "%%sql contingency_triemli_reader3 <<\n",
    "drop table if exists contingency_triemli_reader3;\n",
    "create table contingency_triemli_reader3 as\n",
    "    select * from st_read('../20230814_KSA-study_Contingency-Prostate-Areas_Master_moved_entries.xlsx', layer = 'Hospital_', open_options=['HEADERS=FORCE', 'FIELD_TYPES=STRING'])\n",
    "    where Annotation_Process = 'rad'AND Annotator = 'rad3';\n",
    "\n",
    "select * from contingency_triemli_reader3"
   ]
  },
  {
   "cell_type": "markdown",
   "metadata": {},
   "source": [
    "    Add for each sextant and quadrant if the initial reader sent it for biopsy or not. Which means he classified a region as containing a lesion or not."
   ]
  },
  {
   "cell_type": "code",
   "execution_count": 21,
   "metadata": {},
   "outputs": [
    {
     "data": {
      "text/html": [
       "<span style=\"None\">Running query in &#x27;duckdb:///:memory:&#x27;</span>"
      ],
      "text/plain": [
       "Running query in 'duckdb:///:memory:'"
      ]
     },
     "metadata": {},
     "output_type": "display_data"
    }
   ],
   "source": [
    "%%sql benchmark_table <<\n",
    "--KSA und Bellinzona bedingungen:\n",
    "with Initial_TBx_Re_Base_positive_KSA_BELLINZONA as (\n",
    "    select \n",
    "    other_aval_ID as key,\n",
    "    true AS Initial_TBx_Re_Base_positive \n",
    "    from BENCHMARK_ok\n",
    "    where TBx_Re_Base IS NOT NULL AND TBx_Re_Base >= 3 AND (Site = 'KSA' OR Site = 'Bellinzona')\n",
    "),\n",
    "\n",
    "Initial_TBx_Re_Mid_positive_KSA_BELLINZONA as (\n",
    "    select \n",
    "    other_aval_ID as key,\n",
    "    true AS Initial_TBx_Re_Mid_positive \n",
    "    from BENCHMARK_ok\n",
    "    where TBx_Re_Mid IS NOT NULL AND TBx_Re_Mid >= 3 AND (Site = 'KSA' OR Site = 'Bellinzona')\n",
    "),\n",
    "\n",
    "Initial_TBx_Re_Apex_positive_KSA_BELLINZONA as (\n",
    "    select \n",
    "    other_aval_ID as key,\n",
    "    true AS Initial_TBx_Re_Apex_positive \n",
    "    from BENCHMARK_ok\n",
    "    where TBx_Re_Apex IS NOT NULL AND TBx_Re_Apex >= 3 AND (Site = 'KSA' OR Site = 'Bellinzona')\n",
    "),\n",
    "\n",
    "Initial_TBx_Li_Base_positive_KSA_BELLINZONA as (\n",
    "    select \n",
    "    other_aval_ID as key,\n",
    "    true AS Initial_TBx_Li_Base_positive \n",
    "    from BENCHMARK_ok\n",
    "    where TBx_Li_Base IS NOT NULL AND TBx_Li_Base >= 3 AND (Site = 'KSA' OR Site = 'Bellinzona')\n",
    "),\n",
    "\n",
    "Initial_TBx_Li_Mid_positive_KSA_BELLINZONA as (\n",
    "    select \n",
    "    other_aval_ID as key,\n",
    "    true AS Initial_TBx_Li_Mid_positive \n",
    "    from BENCHMARK_ok\n",
    "    where TBx_Li_Mid IS NOT NULL AND TBx_Li_Mid >= 3 AND (Site = 'KSA' OR Site = 'Bellinzona')\n",
    "),\n",
    "\n",
    "Initial_TBx_Li_Apex_positive_KSA_BELLINZONA as (\n",
    "    select \n",
    "    other_aval_ID as key,\n",
    "    true AS Initial_TBx_Li_Apex_positive \n",
    "    from BENCHMARK_ok\n",
    "    where TBx_Li_Apex IS NOT NULL AND TBx_Li_Apex >= 3 AND (Site = 'KSA' OR Site = 'Bellinzona')\n",
    "),\n",
    "\n",
    "--Triemli Bedingungen:\n",
    "\n",
    "Initial_TBx_Li_lateral_positive_TRIEMLI as (\n",
    "    select \n",
    "    other_aval_ID as key,\n",
    "    true AS Initial_TBx_Li_Lateral_positive \n",
    "    from BENCHMARK_ok\n",
    "    where TBx_Li_lateral IS NOT NULL AND TBx_Li_lateral >= 3 AND (Site = 'Triemli')\n",
    "),\n",
    "\n",
    "Initial_TBx_Li_medial_positive_KSA_TRIEMLI as (\n",
    "    select \n",
    "    other_aval_ID as key,\n",
    "    true AS Initial_TBx_Li_Medial_positive \n",
    "    from BENCHMARK_ok\n",
    "    where TBx_Li_medial IS NOT NULL AND TBx_Li_medial >= 3 AND (Site = 'Triemli')\n",
    "),\n",
    "\n",
    "Initial_TBx_Re_lateral_positive_KSA_TRIEMLI as (\n",
    "    select \n",
    "    other_aval_ID as key,\n",
    "    true AS Initial_TBx_Re_Lateral_positive \n",
    "    from BENCHMARK_ok\n",
    "    where TBx_Re_lateral IS NOT NULL AND TBx_Re_lateral >= 3 AND (Site = 'Triemli')\n",
    "),\n",
    "\n",
    "Initial_TBx_Re_medial_positive_KSA_TRIEMLI as (\n",
    "    select \n",
    "    other_aval_ID as key,\n",
    "    true AS Initial_TBx_Re_Medial_positive \n",
    "    from BENCHMARK_ok\n",
    "    where TBx_Re_medial IS NOT NULL AND TBx_Re_medial >= 3 AND (Site = 'Triemli')\n",
    ")\n",
    "\n",
    "select \n",
    "\n",
    "Studies_ID,\n",
    "other_aval_ID,\n",
    "Site,\n",
    "Comment,\n",
    "TBx_Re_Base,\n",
    "TBx_Re_Mid,\n",
    "TBx_Re_Apex,\n",
    "TBx_Li_Base,\n",
    "TBx_Li_Mid,\n",
    "TBx_Li_Apex,\n",
    "TBx_Li_lateral,\n",
    "TBx_Li_medial,\n",
    "TBx_Re_lateral,\n",
    "TBx_Re_medial,\n",
    "Initial_TBx_Re_Base_positive_KSA_BELLINZONA.Initial_TBx_Re_Base_positive,\n",
    "Initial_TBx_Re_Mid_positive_KSA_BELLINZONA.Initial_TBx_Re_Mid_positive,\n",
    "Initial_TBx_Re_Apex_positive_KSA_BELLINZONA.Initial_TBx_Re_Apex_positive,\n",
    "Initial_TBx_Li_Base_positive_KSA_BELLINZONA.Initial_TBx_Li_Base_positive,\n",
    "Initial_TBx_Li_Mid_positive_KSA_BELLINZONA.Initial_TBx_Li_Mid_positive,\n",
    "Initial_TBx_Li_Apex_positive_KSA_BELLINZONA.Initial_TBx_Li_Apex_positive,\n",
    "Initial_TBx_Li_lateral_positive_TRIEMLI.Initial_TBx_Li_Lateral_positive,\n",
    "Initial_TBx_Li_medial_positive_KSA_TRIEMLI.Initial_TBx_Li_Medial_positive,\n",
    "Initial_TBx_Re_lateral_positive_KSA_TRIEMLI.Initial_TBx_Re_Lateral_positive,\n",
    "Initial_TBx_Re_medial_positive_KSA_TRIEMLI.Initial_TBx_Re_Medial_positive\n",
    "\n",
    "from BENCHMARK_ok\n",
    "--KSA und Bellinzona:\n",
    "\n",
    "left join Initial_TBx_Re_Base_positive_KSA_BELLINZONA on Initial_TBx_Re_Base_positive_KSA_BELLINZONA.key = BENCHMARK_ok.other_aval_ID\n",
    "left join Initial_TBx_Re_Mid_positive_KSA_BELLINZONA on Initial_TBx_Re_Mid_positive_KSA_BELLINZONA.key = BENCHMARK_ok.other_aval_ID\n",
    "left join Initial_TBx_Re_Apex_positive_KSA_BELLINZONA on Initial_TBx_Re_Apex_positive_KSA_BELLINZONA.key = BENCHMARK_ok.other_aval_ID\n",
    "left join Initial_TBx_Li_Base_positive_KSA_BELLINZONA on Initial_TBx_Li_Base_positive_KSA_BELLINZONA.key = BENCHMARK_ok.other_aval_ID\n",
    "left join Initial_TBx_Li_Mid_positive_KSA_BELLINZONA on Initial_TBx_Li_Mid_positive_KSA_BELLINZONA.key = BENCHMARK_ok.other_aval_ID\n",
    "left join Initial_TBx_Li_Apex_positive_KSA_BELLINZONA on Initial_TBx_Li_Apex_positive_KSA_BELLINZONA.key = BENCHMARK_ok.other_aval_ID\n",
    "\n",
    "--Triemli:\n",
    "left join Initial_TBx_Li_lateral_positive_TRIEMLI on Initial_TBx_Li_Lateral_positive_TRIEMLI.key = BENCHMARK_ok.other_aval_ID\n",
    "left join Initial_TBx_Li_medial_positive_KSA_TRIEMLI on Initial_TBx_Li_Medial_positive_KSA_TRIEMLI.key = BENCHMARK_ok.other_aval_ID\n",
    "left join Initial_TBx_Re_lateral_positive_KSA_TRIEMLI on Initial_TBx_Re_Lateral_positive_KSA_TRIEMLI.key = BENCHMARK_ok.other_aval_ID\n",
    "left join Initial_TBx_Re_medial_positive_KSA_TRIEMLI on Initial_TBx_Re_Medial_positive_KSA_TRIEMLI.key = BENCHMARK_ok.other_aval_ID\n"
   ]
  },
  {
   "cell_type": "markdown",
   "metadata": {},
   "source": []
  },
  {
   "cell_type": "markdown",
   "metadata": {},
   "source": [
    "    replace NaN with false"
   ]
  },
  {
   "cell_type": "code",
   "execution_count": 22,
   "metadata": {},
   "outputs": [],
   "source": [
    "def make_true_false(value):\n",
    "    if value == True:\n",
    "        return True\n",
    "    return False"
   ]
  },
  {
   "cell_type": "code",
   "execution_count": 23,
   "metadata": {},
   "outputs": [],
   "source": [
    "benchmark_table['Initial_TBx_Re_Base_positive'] = benchmark_table['Initial_TBx_Re_Base_positive'].apply(make_true_false)\n",
    "benchmark_table['Initial_TBx_Re_Mid_positive'] = benchmark_table['Initial_TBx_Re_Mid_positive'].apply(make_true_false)\n",
    "benchmark_table['Initial_TBx_Re_Apex_positive'] = benchmark_table['Initial_TBx_Re_Apex_positive'].apply(make_true_false)\n",
    "benchmark_table['Initial_TBx_Li_Base_positive'] = benchmark_table['Initial_TBx_Li_Base_positive'].apply(make_true_false)\n",
    "benchmark_table['Initial_TBx_Li_Mid_positive'] = benchmark_table['Initial_TBx_Li_Mid_positive'].apply(make_true_false)\n",
    "benchmark_table['Initial_TBx_Li_Apex_positive'] = benchmark_table['Initial_TBx_Li_Apex_positive'].apply(make_true_false)\n",
    "benchmark_table['Initial_TBx_Li_Lateral_positive'] = benchmark_table['Initial_TBx_Li_Lateral_positive'].apply(make_true_false)\n",
    "benchmark_table['Initial_TBx_Li_Medial_positive'] = benchmark_table['Initial_TBx_Li_Medial_positive'].apply(make_true_false)\n",
    "benchmark_table['Initial_TBx_Li_Apex_positive'] = benchmark_table['Initial_TBx_Li_Apex_positive'].apply(make_true_false)\n",
    "benchmark_table['Initial_TBx_Re_Lateral_positive'] = benchmark_table['Initial_TBx_Re_Lateral_positive'].apply(make_true_false)\n",
    "benchmark_table['Initial_TBx_Re_Medial_positive'] = benchmark_table['Initial_TBx_Re_Medial_positive'].apply(make_true_false)"
   ]
  },
  {
   "cell_type": "markdown",
   "metadata": {},
   "source": [
    "    Set StudyID as index names:"
   ]
  },
  {
   "cell_type": "code",
   "execution_count": 24,
   "metadata": {},
   "outputs": [],
   "source": [
    "contingency_ksa_reader1 = contingency_ksa_reader1.set_index('Spalte1')\n",
    "contingency_ksa_reader2 = contingency_ksa_reader2.set_index('Spalte1')\n",
    "contingency_ksa_reader3 = contingency_ksa_reader3.set_index('Spalte1')\n",
    "\n",
    "contingency_bellinzona_reader1 = contingency_bellinzona_reader1.set_index('Origin_ID')\n",
    "contingency_bellinzona_reader2 = contingency_bellinzona_reader2.set_index('Origin_ID')\n",
    "contingency_bellinzona_reader3 = contingency_bellinzona_reader3.set_index('Origin_ID')\n",
    "\n",
    "contingency_triemli_reader1 = contingency_triemli_reader1.set_index('Origin_ID')\n",
    "contingency_triemli_reader2 = contingency_triemli_reader2.set_index('Origin_ID')\n",
    "contingency_triemli_reader3 = contingency_triemli_reader3.set_index('Origin_ID')\n",
    "\n",
    "benchmark_table = benchmark_table.set_index('other_aval_ID')"
   ]
  },
  {
   "cell_type": "markdown",
   "metadata": {},
   "source": [
    "# For the initial readers, False and NaN are all converted to false. Let's make them empty when they should be:"
   ]
  },
  {
   "cell_type": "code",
   "execution_count": 25,
   "metadata": {},
   "outputs": [
    {
     "name": "stderr",
     "output_type": "stream",
     "text": [
      "C:\\Users\\Joel Fischer\\AppData\\Local\\Temp\\ipykernel_9192\\3804500313.py:12: FutureWarning: Setting an item of incompatible dtype is deprecated and will raise in a future error of pandas. Value '' has dtype incompatible with bool, please explicitly cast to a compatible dtype first.\n",
      "  benchmark_table.loc[StudyID,colname] = ''\n",
      "C:\\Users\\Joel Fischer\\AppData\\Local\\Temp\\ipykernel_9192\\3804500313.py:24: FutureWarning: Setting an item of incompatible dtype is deprecated and will raise in a future error of pandas. Value '' has dtype incompatible with bool, please explicitly cast to a compatible dtype first.\n",
      "  benchmark_table.loc[StudyID,colname] = ''\n"
     ]
    }
   ],
   "source": [
    "columnnames_sextants = ['Initial_TBx_Re_Base_positive',\n",
    "            'Initial_TBx_Re_Mid_positive',\n",
    "            'Initial_TBx_Re_Apex_positive',\n",
    "            'Initial_TBx_Li_Base_positive',\n",
    "            'Initial_TBx_Li_Mid_positive',\n",
    "            'Initial_TBx_Li_Apex_positive'\n",
    "]\n",
    "\n",
    "for colname in columnnames_sextants:\n",
    "    for rowcount, StudyID in enumerate(benchmark_table.index):\n",
    "        if benchmark_table.loc[StudyID,'Site'] == 'Triemli':\n",
    "            benchmark_table.loc[StudyID,colname] = ''\n",
    "\n",
    "\n",
    "columnnames_quadrants = ['Initial_TBx_Li_Lateral_positive',\n",
    "                         'Initial_TBx_Li_Medial_positive',\n",
    "                         'Initial_TBx_Re_Lateral_positive',\n",
    "                        'Initial_TBx_Re_Medial_positive'\n",
    "]\n",
    "\n",
    "for colname in columnnames_quadrants:\n",
    "    for rowcount, StudyID in enumerate(benchmark_table.index):\n",
    "        if benchmark_table.loc[StudyID,'Site'] == 'KSA' or benchmark_table.loc[StudyID,'Site'] == 'Bellinzona':\n",
    "            benchmark_table.loc[StudyID,colname] = ''"
   ]
  },
  {
   "cell_type": "markdown",
   "metadata": {},
   "source": [
    "# Create a column for each Reader and location if a lesion is found or not"
   ]
  },
  {
   "cell_type": "code",
   "execution_count": 26,
   "metadata": {},
   "outputs": [],
   "source": [
    "# For reader 1 and all locations:\n",
    "\n",
    "benchmark_table['Reader1_TBx_Re_Base_positive'] = ''\n",
    "benchmark_table['Reader1_TBx_Re_Mid_positive'] = ''\n",
    "benchmark_table['Reader1_TBx_Re_Apex_positive'] = ''\n",
    "benchmark_table['Reader1_TBx_Li_Base_positive'] = ''\n",
    "benchmark_table['Reader1_TBx_Li_Mid_positive'] = ''\n",
    "benchmark_table['Reader1_TBx_Li_Apex_positive'] = ''\n",
    "benchmark_table['Reader1_TBx_Li_Lateral_positive'] = ''\n",
    "benchmark_table['Reader1_TBx_Li_Medial_positive'] = ''\n",
    "benchmark_table['Reader1_TBx_Re_Lateral_positive'] = ''\n",
    "benchmark_table['Reader1_TBx_Re_Medial_positive'] = ''\n",
    "\n",
    "\n",
    "columns_names = ['Reader1_TBx_Re_Base_positive',\n",
    "                               'Reader1_TBx_Re_Mid_positive',\n",
    "                               'Reader1_TBx_Re_Apex_positive',\n",
    "                               'Reader1_TBx_Li_Base_positive',\n",
    "                               'Reader1_TBx_Li_Mid_positive',\n",
    "                               'Reader1_TBx_Li_Apex_positive',\n",
    "                               'Reader1_TBx_Li_Lateral_positive',\n",
    "                               'Reader1_TBx_Li_Medial_positive',\n",
    "                               'Reader1_TBx_Re_Lateral_positive',\n",
    "                               'Reader1_TBx_Re_Medial_positive'\n",
    "]\n",
    "\n",
    "locations_TP = ['base_right-TP',\n",
    "                'mid_right-TP',\n",
    "                'apex_right-TP',\n",
    "                'base_left-TP',\n",
    "                'mid_left-TP',\n",
    "                'apex_left-TP',\n",
    "                'lateral_left-TP',\n",
    "                'medial_left-TP',\n",
    "                'lateral_right-TP',\n",
    "                'medial_right-TP'\n",
    "]\n",
    "\n",
    "locations_FP = ['base_right-FP',\n",
    "                'mid_right-FP',\n",
    "                'apex_right-FP',\n",
    "                'base_left-FP',\n",
    "                'mid_left-FP',\n",
    "                'apex_left-FP',\n",
    "                'lateral_left-FP',\n",
    "                'medial_left-FP',\n",
    "                'lateral_right-FP',\n",
    "                'medial_right-FP'\n",
    "]\n",
    "\n",
    "sextants = ['Reader1_TBx_Re_Base_positive',\n",
    "            'Reader1_TBx_Re_Mid_positive',\n",
    "            'Reader1_TBx_Re_Apex_positive',\n",
    "            'Reader1_TBx_Li_Base_positive',\n",
    "            'Reader1_TBx_Li_Mid_positive',\n",
    "            'Reader1_TBx_Li_Apex_positive',\n",
    "]\n",
    "\n",
    "quadrants = ['Reader1_TBx_Li_Lateral_positive',\n",
    "            'Reader1_TBx_Li_Medial_positive',\n",
    "            'Reader1_TBx_Re_Lateral_positive',\n",
    "            'Reader1_TBx_Re_Medial_positive'\n",
    "]\n",
    "\n",
    "for col_name, location_TP, location_FP in zip(columns_names, locations_TP, locations_FP):\n",
    "\n",
    "    for rowcount, StudyID in enumerate(benchmark_table.index):\n",
    "\n",
    "        if col_name in sextants:\n",
    "            if StudyID in contingency_ksa_reader1.index:\n",
    "                if contingency_ksa_reader1.loc[StudyID,location_TP] == 'true' or contingency_ksa_reader1.loc[StudyID,location_FP] == 'true':\n",
    "                    benchmark_table.loc[StudyID,col_name] = True\n",
    "                else: \n",
    "                    benchmark_table.loc[StudyID,col_name] = False\n",
    "            \n",
    "            Bellinzona_ID = benchmark_table.loc[StudyID,'Studies_ID'] ##Bellinzona ID is a different column.\n",
    "            if Bellinzona_ID in contingency_bellinzona_reader1.index:\n",
    "                if contingency_bellinzona_reader1.loc[Bellinzona_ID,location_TP] == 'true' or contingency_bellinzona_reader1.loc[Bellinzona_ID,location_FP] == 'true':\n",
    "                    benchmark_table.loc[StudyID,col_name] = True\n",
    "                else: \n",
    "                    benchmark_table.loc[StudyID,col_name] = False\n",
    "\n",
    "        if col_name in quadrants:\n",
    "            Triemli_ID = benchmark_table.loc[StudyID,'Studies_ID'] ##Triemli ID is also in a different colum.\n",
    "\n",
    "            if Triemli_ID in contingency_triemli_reader1.index:\n",
    "                if contingency_triemli_reader1.loc[Triemli_ID,location_TP] == 'true' or contingency_triemli_reader1.loc[Triemli_ID,location_FP] == 'true':\n",
    "                    benchmark_table.loc[StudyID,col_name] = True\n",
    "                else: \n",
    "                    benchmark_table.loc[StudyID,col_name] = False\n"
   ]
  },
  {
   "cell_type": "code",
   "execution_count": 27,
   "metadata": {},
   "outputs": [],
   "source": [
    "# For reader 2 and all locations:\n",
    "\n",
    "benchmark_table['Reader2_TBx_Re_Base_positive'] = ''\n",
    "benchmark_table['Reader2_TBx_Re_Mid_positive'] = ''\n",
    "benchmark_table['Reader2_TBx_Re_Apex_positive'] = ''\n",
    "benchmark_table['Reader2_TBx_Li_Base_positive'] = ''\n",
    "benchmark_table['Reader2_TBx_Li_Mid_positive'] = ''\n",
    "benchmark_table['Reader2_TBx_Li_Apex_positive'] = ''\n",
    "benchmark_table['Reader2_TBx_Li_Lateral_positive'] = ''\n",
    "benchmark_table['Reader2_TBx_Li_Medial_positive'] = ''\n",
    "benchmark_table['Reader2_TBx_Re_Lateral_positive'] = ''\n",
    "benchmark_table['Reader2_TBx_Re_Medial_positive'] = ''\n",
    "\n",
    "\n",
    "columns_names = ['Reader2_TBx_Re_Base_positive',\n",
    "                               'Reader2_TBx_Re_Mid_positive',\n",
    "                               'Reader2_TBx_Re_Apex_positive',\n",
    "                               'Reader2_TBx_Li_Base_positive',\n",
    "                               'Reader2_TBx_Li_Mid_positive',\n",
    "                               'Reader2_TBx_Li_Apex_positive',\n",
    "                               'Reader2_TBx_Li_Lateral_positive',\n",
    "                               'Reader2_TBx_Li_Medial_positive',\n",
    "                               'Reader2_TBx_Re_Lateral_positive',\n",
    "                               'Reader2_TBx_Re_Medial_positive'\n",
    "]\n",
    "\n",
    "locations_TP = ['base_right-TP',\n",
    "                'mid_right-TP',\n",
    "                'apex_right-TP',\n",
    "                'base_left-TP',\n",
    "                'mid_left-TP',\n",
    "                'apex_left-TP',\n",
    "                'lateral_left-TP',\n",
    "                'medial_left-TP',\n",
    "                'lateral_right-TP',\n",
    "                'medial_right-TP'\n",
    "]\n",
    "\n",
    "locations_FP = ['base_right-FP',\n",
    "                'mid_right-FP',\n",
    "                'apex_right-FP',\n",
    "                'base_left-FP',\n",
    "                'mid_left-FP',\n",
    "                'apex_left-FP',\n",
    "                'lateral_left-FP',\n",
    "                'medial_left-FP',\n",
    "                'lateral_right-FP',\n",
    "                'medial_right-FP'\n",
    "]\n",
    "\n",
    "sextants = ['Reader2_TBx_Re_Base_positive',\n",
    "            'Reader2_TBx_Re_Mid_positive',\n",
    "            'Reader2_TBx_Re_Apex_positive',\n",
    "            'Reader2_TBx_Li_Base_positive',\n",
    "            'Reader2_TBx_Li_Mid_positive',\n",
    "            'Reader2_TBx_Li_Apex_positive',\n",
    "]\n",
    "\n",
    "quadrants = ['Reader2_TBx_Li_Lateral_positive',\n",
    "            'Reader2_TBx_Li_Medial_positive',\n",
    "            'Reader2_TBx_Re_Lateral_positive',\n",
    "            'Reader2_TBx_Re_Medial_positive'\n",
    "]\n",
    "\n",
    "for col_name, location_TP, location_FP in zip(columns_names, locations_TP, locations_FP):\n",
    "\n",
    "    for rowcount, StudyID in enumerate(benchmark_table.index):\n",
    "\n",
    "        if col_name in sextants:\n",
    "            if StudyID in contingency_ksa_reader1.index:\n",
    "                if contingency_ksa_reader2.loc[StudyID,location_TP] == 'true' or contingency_ksa_reader2.loc[StudyID,location_FP] == 'true':\n",
    "                    benchmark_table.loc[StudyID,col_name] = True\n",
    "                else: \n",
    "                    benchmark_table.loc[StudyID,col_name] = False\n",
    "            \n",
    "            Bellinzona_ID = benchmark_table.loc[StudyID,'Studies_ID'] ##Bellinzona ID is a different column.\n",
    "            if Bellinzona_ID in contingency_bellinzona_reader1.index:\n",
    "                if contingency_bellinzona_reader2.loc[Bellinzona_ID,location_TP] == 'true' or contingency_bellinzona_reader2.loc[Bellinzona_ID,location_FP] == 'true':\n",
    "                    benchmark_table.loc[StudyID,col_name] = True\n",
    "                else: \n",
    "                    benchmark_table.loc[StudyID,col_name] = False\n",
    "\n",
    "        if col_name in quadrants:\n",
    "            Triemli_ID = benchmark_table.loc[StudyID,'Studies_ID'] ##Triemli ID is also in a different colum.\n",
    "\n",
    "            if Triemli_ID in contingency_triemli_reader1.index:\n",
    "                if contingency_triemli_reader2.loc[Triemli_ID,location_TP] == 'true' or contingency_triemli_reader2.loc[Triemli_ID,location_FP] == 'true':\n",
    "                    benchmark_table.loc[StudyID,col_name] = True\n",
    "                else: \n",
    "                    benchmark_table.loc[StudyID,col_name] = False\n"
   ]
  },
  {
   "cell_type": "code",
   "execution_count": 28,
   "metadata": {},
   "outputs": [],
   "source": [
    "# For reader 3 and all locations:\n",
    "\n",
    "benchmark_table['Reader3_TBx_Re_Base_positive'] = ''\n",
    "benchmark_table['Reader3_TBx_Re_Mid_positive'] = ''\n",
    "benchmark_table['Reader3_TBx_Re_Apex_positive'] = ''\n",
    "benchmark_table['Reader3_TBx_Li_Base_positive'] = ''\n",
    "benchmark_table['Reader3_TBx_Li_Mid_positive'] = ''\n",
    "benchmark_table['Reader3_TBx_Li_Apex_positive'] = ''\n",
    "benchmark_table['Reader3_TBx_Li_Lateral_positive'] = ''\n",
    "benchmark_table['Reader3_TBx_Li_Medial_positive'] = ''\n",
    "benchmark_table['Reader3_TBx_Re_Lateral_positive'] = ''\n",
    "benchmark_table['Reader3_TBx_Re_Medial_positive'] = ''\n",
    "\n",
    "\n",
    "columns_names = ['Reader3_TBx_Re_Base_positive',\n",
    "                               'Reader3_TBx_Re_Mid_positive',\n",
    "                               'Reader3_TBx_Re_Apex_positive',\n",
    "                               'Reader3_TBx_Li_Base_positive',\n",
    "                               'Reader3_TBx_Li_Mid_positive',\n",
    "                               'Reader3_TBx_Li_Apex_positive',\n",
    "                               'Reader3_TBx_Li_Lateral_positive',\n",
    "                               'Reader3_TBx_Li_Medial_positive',\n",
    "                               'Reader3_TBx_Re_Lateral_positive',\n",
    "                               'Reader3_TBx_Re_Medial_positive'\n",
    "]\n",
    "\n",
    "locations_TP = ['base_right-TP',\n",
    "                'mid_right-TP',\n",
    "                'apex_right-TP',\n",
    "                'base_left-TP',\n",
    "                'mid_left-TP',\n",
    "                'apex_left-TP',\n",
    "                'lateral_left-TP',\n",
    "                'medial_left-TP',\n",
    "                'lateral_right-TP',\n",
    "                'medial_right-TP'\n",
    "]\n",
    "\n",
    "locations_FP = ['base_right-FP',\n",
    "                'mid_right-FP',\n",
    "                'apex_right-FP',\n",
    "                'base_left-FP',\n",
    "                'mid_left-FP',\n",
    "                'apex_left-FP',\n",
    "                'lateral_left-FP',\n",
    "                'medial_left-FP',\n",
    "                'lateral_right-FP',\n",
    "                'medial_right-FP'\n",
    "]\n",
    "\n",
    "sextants = ['Reader3_TBx_Re_Base_positive',\n",
    "            'Reader3_TBx_Re_Mid_positive',\n",
    "            'Reader3_TBx_Re_Apex_positive',\n",
    "            'Reader3_TBx_Li_Base_positive',\n",
    "            'Reader3_TBx_Li_Mid_positive',\n",
    "            'Reader3_TBx_Li_Apex_positive',\n",
    "]\n",
    "\n",
    "quadrants = ['Reader3_TBx_Li_Lateral_positive',\n",
    "            'Reader3_TBx_Li_Medial_positive',\n",
    "            'Reader3_TBx_Re_Lateral_positive',\n",
    "            'Reader3_TBx_Re_Medial_positive'\n",
    "]\n",
    "\n",
    "for col_name, location_TP, location_FP in zip(columns_names, locations_TP, locations_FP):\n",
    "\n",
    "    for rowcount, StudyID in enumerate(benchmark_table.index):\n",
    "\n",
    "        if col_name in sextants:\n",
    "            if StudyID in contingency_ksa_reader1.index:\n",
    "                if contingency_ksa_reader3.loc[StudyID,location_TP] == 'true' or contingency_ksa_reader3.loc[StudyID,location_FP] == 'true':\n",
    "                    benchmark_table.loc[StudyID,col_name] = True\n",
    "                else: \n",
    "                    benchmark_table.loc[StudyID,col_name] = False\n",
    "            \n",
    "            Bellinzona_ID = benchmark_table.loc[StudyID,'Studies_ID'] ##Bellinzona ID is a different column.\n",
    "            if Bellinzona_ID in contingency_bellinzona_reader1.index:\n",
    "                if contingency_bellinzona_reader3.loc[Bellinzona_ID,location_TP] == 'true' or contingency_bellinzona_reader3.loc[Bellinzona_ID,location_FP] == 'true':\n",
    "                    benchmark_table.loc[StudyID,col_name] = True\n",
    "                else: \n",
    "                    benchmark_table.loc[StudyID,col_name] = False\n",
    "\n",
    "        if col_name in quadrants:\n",
    "            Triemli_ID = benchmark_table.loc[StudyID,'Studies_ID'] ##Triemli ID is also in a different colum.\n",
    "\n",
    "            if Triemli_ID in contingency_triemli_reader1.index:\n",
    "                if contingency_triemli_reader3.loc[Triemli_ID,location_TP] == 'true' or contingency_triemli_reader3.loc[Triemli_ID,location_FP] == 'true':\n",
    "                    benchmark_table.loc[StudyID,col_name] = True\n",
    "                else: \n",
    "                    benchmark_table.loc[StudyID,col_name] = False\n"
   ]
  },
  {
   "cell_type": "markdown",
   "metadata": {},
   "source": [
    "# Create a row for all 10 locations a row where true when all three readers agree:"
   ]
  },
  {
   "cell_type": "code",
   "execution_count": 29,
   "metadata": {},
   "outputs": [],
   "source": [
    "benchmark_table['Unanimous_Decision_TBx_Re_Base_positive'] = ''\n",
    "for rowcount, StudyID in enumerate(benchmark_table.index):\n",
    "    if benchmark_table.loc[StudyID,'Reader1_TBx_Re_Base_positive'] == True and benchmark_table.loc[StudyID,'Reader2_TBx_Re_Base_positive'] == True and benchmark_table.loc[StudyID,'Reader3_TBx_Re_Base_positive'] == True:\n",
    "        benchmark_table.loc[StudyID,'Unanimous_Decision_TBx_Re_Base_positive'] = True\n",
    "    else:\n",
    "        benchmark_table.loc[StudyID,'Unanimous_Decision_TBx_Re_Base_positive'] = False\n",
    "\n",
    "\n",
    "benchmark_table['Unanimous_Decision_TBx_Re_Mid_positive'] = ''\n",
    "for rowcount, StudyID in enumerate(benchmark_table.index):\n",
    "    if benchmark_table.loc[StudyID,'Reader1_TBx_Re_Mid_positive'] == True and benchmark_table.loc[StudyID,'Reader2_TBx_Re_Mid_positive'] == True and benchmark_table.loc[StudyID,'Reader3_TBx_Re_Mid_positive'] == True:\n",
    "        benchmark_table.loc[StudyID,'Unanimous_Decision_TBx_Re_Mid_positive'] = True\n",
    "    else:\n",
    "        benchmark_table.loc[StudyID,'Unanimous_Decision_TBx_Re_Mid_positive'] = False\n",
    "\n",
    "\n",
    "benchmark_table['Unanimous_Decision_TBx_Re_Apex_positive'] = ''\n",
    "for rowcount, StudyID in enumerate(benchmark_table.index):\n",
    "    if benchmark_table.loc[StudyID,'Reader1_TBx_Re_Apex_positive'] == True and benchmark_table.loc[StudyID,'Reader2_TBx_Re_Apex_positive'] == True and benchmark_table.loc[StudyID,'Reader3_TBx_Re_Apex_positive'] == True:\n",
    "        benchmark_table.loc[StudyID,'Unanimous_Decision_TBx_Re_Apex_positive'] = True\n",
    "    else:\n",
    "        benchmark_table.loc[StudyID,'Unanimous_Decision_TBx_Re_Apex_positive'] = False\n",
    "\n",
    "\n",
    "benchmark_table['Unanimous_Decision_TBx_Li_Base_positive'] = ''\n",
    "for rowcount, StudyID in enumerate(benchmark_table.index):\n",
    "    if benchmark_table.loc[StudyID,'Reader1_TBx_Li_Base_positive'] == True and benchmark_table.loc[StudyID,'Reader2_TBx_Li_Base_positive'] == True and benchmark_table.loc[StudyID,'Reader3_TBx_Li_Base_positive'] == True:\n",
    "        benchmark_table.loc[StudyID,'Unanimous_Decision_TBx_Li_Base_positive'] = True\n",
    "    else:\n",
    "        benchmark_table.loc[StudyID,'Unanimous_Decision_TBx_Li_Base_positive'] = False\n",
    "\n",
    "\n",
    "benchmark_table['Unanimous_Decision_TBx_Li_Mid_positive'] = ''\n",
    "for rowcount, StudyID in enumerate(benchmark_table.index):\n",
    "    if benchmark_table.loc[StudyID,'Reader1_TBx_Li_Mid_positive'] == True and benchmark_table.loc[StudyID,'Reader2_TBx_Li_Mid_positive'] == True and benchmark_table.loc[StudyID,'Reader3_TBx_Li_Mid_positive'] == True:\n",
    "        benchmark_table.loc[StudyID,'Unanimous_Decision_TBx_Li_Mid_positive'] = True\n",
    "    else:\n",
    "        benchmark_table.loc[StudyID,'Unanimous_Decision_TBx_Li_Mid_positive'] = False\n",
    "\n",
    "\n",
    "benchmark_table['Unanimous_Decision_TBx_Li_Apex_positive'] = ''\n",
    "for rowcount, StudyID in enumerate(benchmark_table.index):\n",
    "    if benchmark_table.loc[StudyID,'Reader1_TBx_Li_Apex_positive'] == True and benchmark_table.loc[StudyID,'Reader2_TBx_Li_Apex_positive'] == True and benchmark_table.loc[StudyID,'Reader3_TBx_Li_Apex_positive'] == True:\n",
    "        benchmark_table.loc[StudyID,'Unanimous_Decision_TBx_Li_Apex_positive'] = True\n",
    "    else:\n",
    "        benchmark_table.loc[StudyID,'Unanimous_Decision_TBx_Li_Apex_positive'] = False\n",
    "\n",
    "#For Quadrants:\n",
    "\n",
    "benchmark_table['Unanimous_Decision_TBx_Li_Lateral_positive'] = ''\n",
    "for rowcount, StudyID in enumerate(benchmark_table.index):\n",
    "    if benchmark_table.loc[StudyID,'Reader1_TBx_Li_Lateral_positive'] == True and benchmark_table.loc[StudyID,'Reader2_TBx_Li_Lateral_positive'] == True and benchmark_table.loc[StudyID,'Reader3_TBx_Li_Lateral_positive'] == True:\n",
    "        benchmark_table.loc[StudyID,'Unanimous_Decision_TBx_Li_Lateral_positive'] = True\n",
    "    else:\n",
    "        benchmark_table.loc[StudyID,'Unanimous_Decision_TBx_Li_Lateral_positive'] = False\n",
    "\n",
    "\n",
    "benchmark_table['Unanimous_Decision_TBx_Li_Medial_positive'] = ''\n",
    "for rowcount, StudyID in enumerate(benchmark_table.index):\n",
    "    if benchmark_table.loc[StudyID,'Reader1_TBx_Li_Medial_positive'] == True and benchmark_table.loc[StudyID,'Reader2_TBx_Li_Medial_positive'] == True and benchmark_table.loc[StudyID,'Reader3_TBx_Li_Medial_positive'] == True:\n",
    "        benchmark_table.loc[StudyID,'Unanimous_Decision_TBx_Li_Medial_positive'] = True\n",
    "    else:\n",
    "        benchmark_table.loc[StudyID,'Unanimous_Decision_TBx_Li_Medial_positive'] = False\n",
    "\n",
    "\n",
    "benchmark_table['Unanimous_Decision_TBx_Re_Lateral_positive'] = ''\n",
    "for rowcount, StudyID in enumerate(benchmark_table.index):\n",
    "    if benchmark_table.loc[StudyID,'Reader1_TBx_Re_Lateral_positive'] == True and benchmark_table.loc[StudyID,'Reader2_TBx_Re_Lateral_positive'] == True and benchmark_table.loc[StudyID,'Reader3_TBx_Re_Lateral_positive'] == True:\n",
    "        benchmark_table.loc[StudyID,'Unanimous_Decision_TBx_Re_Lateral_positive'] = True\n",
    "    else:\n",
    "        benchmark_table.loc[StudyID,'Unanimous_Decision_TBx_Re_Lateral_positive'] = False\n",
    "\n",
    "\n",
    "benchmark_table['Unanimous_Decision_TBx_Re_Medial_positive'] = ''\n",
    "for rowcount, StudyID in enumerate(benchmark_table.index):\n",
    "    if benchmark_table.loc[StudyID,'Reader1_TBx_Re_Medial_positive'] == True and benchmark_table.loc[StudyID,'Reader2_TBx_Re_Medial_positive'] == True and benchmark_table.loc[StudyID,'Reader3_TBx_Re_Medial_positive'] == True:\n",
    "        benchmark_table.loc[StudyID,'Unanimous_Decision_TBx_Re_Medial_positive'] = True\n",
    "    else:\n",
    "        benchmark_table.loc[StudyID,'Unanimous_Decision_TBx_Re_Medial_positive'] = False\n"
   ]
  },
  {
   "cell_type": "markdown",
   "metadata": {},
   "source": [
    "# Create the unanimous decision contingency Table for each of the 10 columns:"
   ]
  },
  {
   "cell_type": "code",
   "execution_count": 30,
   "metadata": {},
   "outputs": [],
   "source": [
    "\n",
    "benchmark_table['Unanimous_Decision_TBx_Re_Base'] = ''\n",
    "benchmark_table['Unanimous_Decision_TBx_Re_Mid'] = ''\n",
    "benchmark_table['Unanimous_Decision_TBx_Re_Apex'] = ''\n",
    "benchmark_table['Unanimous_Decision_TBx_Li_Base'] = ''\n",
    "benchmark_table['Unanimous_Decision_TBx_Li_Mid'] = ''\n",
    "benchmark_table['Unanimous_Decision_TBx_Li_Apex'] = ''\n",
    "benchmark_table['Unanimous_Decision_TBx_Li_Lateral'] = ''\n",
    "benchmark_table['Unanimous_Decision_TBx_Li_Medial'] = ''\n",
    "benchmark_table['Unanimous_Decision_TBx_Re_Lateral'] = ''\n",
    "benchmark_table['Unanimous_Decision_TBx_Re_Medial'] = ''\n",
    "\n",
    "\n",
    "\n",
    "contingeny_decions = ['Unanimous_Decision_TBx_Re_Base',\n",
    "                               'Unanimous_Decision_TBx_Re_Mid',\n",
    "                               'Unanimous_Decision_TBx_Re_Apex',\n",
    "                               'Unanimous_Decision_TBx_Li_Base',\n",
    "                               'Unanimous_Decision_TBx_Li_Mid',\n",
    "                               'Unanimous_Decision_TBx_Li_Apex',\n",
    "                               'Unanimous_Decision_TBx_Li_Lateral',\n",
    "                               'Unanimous_Decision_TBx_Li_Medial',\n",
    "                               'Unanimous_Decision_TBx_Re_Lateral',\n",
    "                               'Unanimous_Decision_TBx_Re_Medial'\n",
    "]\n",
    "\n",
    "unanimous_decision = ['Unanimous_Decision_TBx_Re_Base_positive',\n",
    "                               'Unanimous_Decision_TBx_Re_Mid_positive',\n",
    "                               'Unanimous_Decision_TBx_Re_Apex_positive',\n",
    "                               'Unanimous_Decision_TBx_Li_Base_positive',\n",
    "                               'Unanimous_Decision_TBx_Li_Mid_positive',\n",
    "                               'Unanimous_Decision_TBx_Li_Apex_positive',\n",
    "                               'Unanimous_Decision_TBx_Li_Lateral_positive',\n",
    "                               'Unanimous_Decision_TBx_Li_Medial_positive',\n",
    "                               'Unanimous_Decision_TBx_Re_Lateral_positive',\n",
    "                               'Unanimous_Decision_TBx_Re_Medial_positive'\n",
    "]\n",
    "\n",
    "initial_readings = ['Initial_TBx_Re_Base_positive',\n",
    "                    'Initial_TBx_Re_Mid_positive',\n",
    "                    'Initial_TBx_Re_Apex_positive',\n",
    "                    'Initial_TBx_Li_Base_positive',\n",
    "                    'Initial_TBx_Li_Mid_positive',\n",
    "                    'Initial_TBx_Li_Apex_positive',\n",
    "                    'Initial_TBx_Li_Lateral_positive',\n",
    "                    'Initial_TBx_Li_Medial_positive',\n",
    "                    'Initial_TBx_Re_Lateral_positive',\n",
    "                    'Initial_TBx_Re_Medial_positive',\n",
    "]\n",
    "\n",
    "for new_column, unanimous_decision, initial_reading in zip(contingeny_decions,unanimous_decision,initial_readings):\n",
    "    for rowcount, StudyID in enumerate(benchmark_table.index):\n",
    "        if benchmark_table.loc[StudyID,unanimous_decision] == True:\n",
    "            if benchmark_table.loc[StudyID,initial_reading] == True:\n",
    "                benchmark_table.loc[StudyID,new_column] = 'TP'\n",
    "\n",
    "            if benchmark_table.loc[StudyID,initial_reading] == False:\n",
    "                benchmark_table.loc[StudyID,new_column] = 'N/A'\n",
    "    \n",
    "        if benchmark_table.loc[StudyID,unanimous_decision] == False:\n",
    "            if benchmark_table.loc[StudyID,initial_reading] == True:\n",
    "                benchmark_table.loc[StudyID,new_column] = 'FN'\n",
    "\n",
    "            if benchmark_table.loc[StudyID,initial_reading] == False:\n",
    "                benchmark_table.loc[StudyID,new_column] = 'N/A'\n",
    "\n"
   ]
  },
  {
   "cell_type": "markdown",
   "metadata": {},
   "source": [
    "# Contingency table for the individual readers:"
   ]
  },
  {
   "cell_type": "code",
   "execution_count": 31,
   "metadata": {},
   "outputs": [],
   "source": [
    "\n",
    "benchmark_table['Reader1_TBx_Re_Base'] = ''\n",
    "benchmark_table['Reader1_TBx_Re_Mid'] = ''\n",
    "benchmark_table['Reader1_TBx_Re_Apex'] = ''\n",
    "benchmark_table['Reader1_TBx_Li_Base'] = ''\n",
    "benchmark_table['Reader1_TBx_Li_Mid'] = ''\n",
    "benchmark_table['Reader1_TBx_Li_Apex'] = ''\n",
    "benchmark_table['Reader1_TBx_Li_Lateral'] = ''\n",
    "benchmark_table['Reader1_TBx_Li_Medial'] = ''\n",
    "benchmark_table['Reader1_TBx_Re_Lateral'] = ''\n",
    "benchmark_table['Reader1_TBx_Re_Medial'] = ''\n",
    "\n",
    "contingeny_decions = ['Reader1_TBx_Re_Base',\n",
    "                               'Reader1_TBx_Re_Mid',\n",
    "                               'Reader1_TBx_Re_Apex',\n",
    "                               'Reader1_TBx_Li_Base',\n",
    "                               'Reader1_TBx_Li_Mid',\n",
    "                               'Reader1_TBx_Li_Apex',\n",
    "                               'Reader1_TBx_Li_Lateral',\n",
    "                               'Reader1_TBx_Li_Medial',\n",
    "                               'Reader1_TBx_Re_Lateral',\n",
    "                               'Reader1_TBx_Re_Medial'\n",
    "]\n",
    "\n",
    "reader_decision = ['Reader1_TBx_Re_Base_positive',\n",
    "                               'Reader1_TBx_Re_Mid_positive',\n",
    "                               'Reader1_TBx_Re_Apex_positive',\n",
    "                               'Reader1_TBx_Li_Base_positive',\n",
    "                               'Reader1_TBx_Li_Mid_positive',\n",
    "                               'Reader1_TBx_Li_Apex_positive',\n",
    "                               'Reader1_TBx_Li_Lateral_positive',\n",
    "                               'Reader1_TBx_Li_Medial_positive',\n",
    "                               'Reader1_TBx_Re_Lateral_positive',\n",
    "                               'Reader1_TBx_Re_Medial_positive'\n",
    "]\n",
    "\n",
    "initial_readings = ['Initial_TBx_Re_Base_positive',\n",
    "                    'Initial_TBx_Re_Mid_positive',\n",
    "                    'Initial_TBx_Re_Apex_positive',\n",
    "                    'Initial_TBx_Li_Base_positive',\n",
    "                    'Initial_TBx_Li_Mid_positive',\n",
    "                    'Initial_TBx_Li_Apex_positive',\n",
    "                    'Initial_TBx_Li_Lateral_positive',\n",
    "                    'Initial_TBx_Li_Medial_positive',\n",
    "                    'Initial_TBx_Re_Lateral_positive',\n",
    "                    'Initial_TBx_Re_Medial_positive'\n",
    "]\n",
    "\n",
    "for new_column, unanimous_decision, initial_reading in zip(contingeny_decions,reader_decision,initial_readings):\n",
    "    for rowcount, StudyID in enumerate(benchmark_table.index):\n",
    "        if benchmark_table.loc[StudyID,unanimous_decision] == True:\n",
    "            if benchmark_table.loc[StudyID,initial_reading] == True:\n",
    "                benchmark_table.loc[StudyID,new_column] = 'TP'\n",
    "\n",
    "            if benchmark_table.loc[StudyID,initial_reading] == False:\n",
    "                benchmark_table.loc[StudyID,new_column] = 'FP'\n",
    "    \n",
    "        if benchmark_table.loc[StudyID,unanimous_decision] == False:\n",
    "            if benchmark_table.loc[StudyID,initial_reading] == True:\n",
    "                benchmark_table.loc[StudyID,new_column] = 'FN'\n",
    "\n",
    "            if benchmark_table.loc[StudyID,initial_reading] == False:\n",
    "                benchmark_table.loc[StudyID,new_column] = 'TN'\n",
    "\n"
   ]
  },
  {
   "cell_type": "code",
   "execution_count": 32,
   "metadata": {},
   "outputs": [],
   "source": [
    "\n",
    "benchmark_table['Reader2_TBx_Re_Base'] = ''\n",
    "benchmark_table['Reader2_TBx_Re_Mid'] = ''\n",
    "benchmark_table['Reader2_TBx_Re_Apex'] = ''\n",
    "benchmark_table['Reader2_TBx_Li_Base'] = ''\n",
    "benchmark_table['Reader2_TBx_Li_Mid'] = ''\n",
    "benchmark_table['Reader2_TBx_Li_Apex'] = ''\n",
    "benchmark_table['Reader2_TBx_Li_Lateral'] = ''\n",
    "benchmark_table['Reader2_TBx_Li_Medial'] = ''\n",
    "benchmark_table['Reader2_TBx_Re_Lateral'] = ''\n",
    "benchmark_table['Reader2_TBx_Re_Medial'] = ''\n",
    "\n",
    "contingeny_decions = ['Reader2_TBx_Re_Base',\n",
    "                               'Reader2_TBx_Re_Mid',\n",
    "                               'Reader2_TBx_Re_Apex',\n",
    "                               'Reader2_TBx_Li_Base',\n",
    "                               'Reader2_TBx_Li_Mid',\n",
    "                               'Reader2_TBx_Li_Apex',\n",
    "                               'Reader2_TBx_Li_Lateral',\n",
    "                               'Reader2_TBx_Li_Medial',\n",
    "                               'Reader2_TBx_Re_Lateral',\n",
    "                               'Reader2_TBx_Re_Medial'\n",
    "]\n",
    "\n",
    "reader_decision = ['Reader2_TBx_Re_Base_positive',\n",
    "                               'Reader2_TBx_Re_Mid_positive',\n",
    "                               'Reader2_TBx_Re_Apex_positive',\n",
    "                               'Reader2_TBx_Li_Base_positive',\n",
    "                               'Reader2_TBx_Li_Mid_positive',\n",
    "                               'Reader2_TBx_Li_Apex_positive',\n",
    "                               'Reader2_TBx_Li_Lateral_positive',\n",
    "                               'Reader2_TBx_Li_Medial_positive',\n",
    "                               'Reader2_TBx_Re_Lateral_positive',\n",
    "                               'Reader2_TBx_Re_Medial_positive'\n",
    "]\n",
    "\n",
    "initial_readings = ['Initial_TBx_Re_Base_positive',\n",
    "                    'Initial_TBx_Re_Mid_positive',\n",
    "                    'Initial_TBx_Re_Apex_positive',\n",
    "                    'Initial_TBx_Li_Base_positive',\n",
    "                    'Initial_TBx_Li_Mid_positive',\n",
    "                    'Initial_TBx_Li_Apex_positive',\n",
    "                    'Initial_TBx_Li_Lateral_positive',\n",
    "                    'Initial_TBx_Li_Medial_positive',\n",
    "                    'Initial_TBx_Re_Lateral_positive',\n",
    "                    'Initial_TBx_Re_Medial_positive'\n",
    "]\n",
    "\n",
    "for new_column, unanimous_decision, initial_reading in zip(contingeny_decions,reader_decision,initial_readings):\n",
    "    for rowcount, StudyID in enumerate(benchmark_table.index):\n",
    "        if benchmark_table.loc[StudyID,unanimous_decision] == True:\n",
    "            if benchmark_table.loc[StudyID,initial_reading] == True:\n",
    "                benchmark_table.loc[StudyID,new_column] = 'TP'\n",
    "\n",
    "            if benchmark_table.loc[StudyID,initial_reading] == False:\n",
    "                benchmark_table.loc[StudyID,new_column] = 'FP'\n",
    "    \n",
    "        if benchmark_table.loc[StudyID,unanimous_decision] == False:\n",
    "            if benchmark_table.loc[StudyID,initial_reading] == True:\n",
    "                benchmark_table.loc[StudyID,new_column] = 'FN'\n",
    "\n",
    "            if benchmark_table.loc[StudyID,initial_reading] == False:\n",
    "                benchmark_table.loc[StudyID,new_column] = 'TN'\n",
    "\n"
   ]
  },
  {
   "cell_type": "code",
   "execution_count": 33,
   "metadata": {},
   "outputs": [
    {
     "name": "stderr",
     "output_type": "stream",
     "text": [
      "C:\\Users\\Joel Fischer\\AppData\\Local\\Temp\\ipykernel_9192\\3888760054.py:8: PerformanceWarning: DataFrame is highly fragmented.  This is usually the result of calling `frame.insert` many times, which has poor performance.  Consider joining all columns at once using pd.concat(axis=1) instead. To get a de-fragmented frame, use `newframe = frame.copy()`\n",
      "  benchmark_table['Reader3_TBx_Li_Medial'] = ''\n",
      "C:\\Users\\Joel Fischer\\AppData\\Local\\Temp\\ipykernel_9192\\3888760054.py:9: PerformanceWarning: DataFrame is highly fragmented.  This is usually the result of calling `frame.insert` many times, which has poor performance.  Consider joining all columns at once using pd.concat(axis=1) instead. To get a de-fragmented frame, use `newframe = frame.copy()`\n",
      "  benchmark_table['Reader3_TBx_Re_Lateral'] = ''\n",
      "C:\\Users\\Joel Fischer\\AppData\\Local\\Temp\\ipykernel_9192\\3888760054.py:10: PerformanceWarning: DataFrame is highly fragmented.  This is usually the result of calling `frame.insert` many times, which has poor performance.  Consider joining all columns at once using pd.concat(axis=1) instead. To get a de-fragmented frame, use `newframe = frame.copy()`\n",
      "  benchmark_table['Reader3_TBx_Re_Medial'] = ''\n"
     ]
    }
   ],
   "source": [
    "\n",
    "benchmark_table['Reader3_TBx_Re_Base'] = ''\n",
    "benchmark_table['Reader3_TBx_Re_Mid'] = ''\n",
    "benchmark_table['Reader3_TBx_Re_Apex'] = ''\n",
    "benchmark_table['Reader3_TBx_Li_Base'] = ''\n",
    "benchmark_table['Reader3_TBx_Li_Mid'] = ''\n",
    "benchmark_table['Reader3_TBx_Li_Apex'] = ''\n",
    "benchmark_table['Reader3_TBx_Li_Lateral'] = ''\n",
    "benchmark_table['Reader3_TBx_Li_Medial'] = ''\n",
    "benchmark_table['Reader3_TBx_Re_Lateral'] = ''\n",
    "benchmark_table['Reader3_TBx_Re_Medial'] = ''\n",
    "\n",
    "contingeny_decions = ['Reader3_TBx_Re_Base',\n",
    "                               'Reader3_TBx_Re_Mid',\n",
    "                               'Reader3_TBx_Re_Apex',\n",
    "                               'Reader3_TBx_Li_Base',\n",
    "                               'Reader3_TBx_Li_Mid',\n",
    "                               'Reader3_TBx_Li_Apex',\n",
    "                               'Reader3_TBx_Li_Lateral',\n",
    "                               'Reader3_TBx_Li_Medial',\n",
    "                               'Reader3_TBx_Re_Lateral',\n",
    "                               'Reader3_TBx_Re_Medial'\n",
    "]\n",
    "\n",
    "reader_decision = ['Reader3_TBx_Re_Base_positive',\n",
    "                               'Reader3_TBx_Re_Mid_positive',\n",
    "                               'Reader3_TBx_Re_Apex_positive',\n",
    "                               'Reader3_TBx_Li_Base_positive',\n",
    "                               'Reader3_TBx_Li_Mid_positive',\n",
    "                               'Reader3_TBx_Li_Apex_positive',\n",
    "                               'Reader3_TBx_Li_Lateral_positive',\n",
    "                               'Reader3_TBx_Li_Medial_positive',\n",
    "                               'Reader3_TBx_Re_Lateral_positive',\n",
    "                               'Reader3_TBx_Re_Medial_positive'\n",
    "]\n",
    "\n",
    "initial_readings = ['Initial_TBx_Re_Base_positive',\n",
    "                    'Initial_TBx_Re_Mid_positive',\n",
    "                    'Initial_TBx_Re_Apex_positive',\n",
    "                    'Initial_TBx_Li_Base_positive',\n",
    "                    'Initial_TBx_Li_Mid_positive',\n",
    "                    'Initial_TBx_Li_Apex_positive',\n",
    "                    'Initial_TBx_Li_Lateral_positive',\n",
    "                    'Initial_TBx_Li_Medial_positive',\n",
    "                    'Initial_TBx_Re_Lateral_positive',\n",
    "                    'Initial_TBx_Re_Medial_positive'\n",
    "]\n",
    "\n",
    "for new_column, unanimous_decision, initial_reading in zip(contingeny_decions,reader_decision,initial_readings):\n",
    "    for rowcount, StudyID in enumerate(benchmark_table.index):\n",
    "        if benchmark_table.loc[StudyID,unanimous_decision] == True:\n",
    "            if benchmark_table.loc[StudyID,initial_reading] == True:\n",
    "                benchmark_table.loc[StudyID,new_column] = 'TP'\n",
    "\n",
    "            if benchmark_table.loc[StudyID,initial_reading] == False:\n",
    "                benchmark_table.loc[StudyID,new_column] = 'FP'\n",
    "    \n",
    "        if benchmark_table.loc[StudyID,unanimous_decision] == False:\n",
    "            if benchmark_table.loc[StudyID,initial_reading] == True:\n",
    "                benchmark_table.loc[StudyID,new_column] = 'FN'\n",
    "\n",
    "            if benchmark_table.loc[StudyID,initial_reading] == False:\n",
    "                benchmark_table.loc[StudyID,new_column] = 'TN'\n",
    "\n"
   ]
  },
  {
   "cell_type": "markdown",
   "metadata": {},
   "source": [
    "# Make a reader score per Case:"
   ]
  },
  {
   "cell_type": "code",
   "execution_count": 35,
   "metadata": {},
   "outputs": [
    {
     "data": {
      "text/plain": [
       "'\\nPatient wise:\\nReader Score:\\n0: Only the initial Reader saw a lesion\\n1: 1 additional reader saw at least one lesion\\n2: 2 additional readers saw at least one lesion\\n3: All 3 readers saw at least one lesion\\n\\nA) Make a colum with the number of targeted biopsies per Case\\nB) Number of lesions seen by readers 1,2,3 (3 columns)\\nC) Reader Score\\n'"
      ]
     },
     "execution_count": 35,
     "metadata": {},
     "output_type": "execute_result"
    }
   ],
   "source": [
    "'''\n",
    "Patient wise:\n",
    "Reader Score:\n",
    "0: Only the initial Reader saw a lesion\n",
    "1: 1 additional reader saw at least one lesion\n",
    "2: 2 additional readers saw at least one lesion\n",
    "3: All 3 readers saw at least one lesion\n",
    "\n",
    "A) Make a colum with the number of targeted biopsies per Case\n",
    "B) Number of lesions seen by readers 1,2,3 (3 columns)\n",
    "C) Reader Score\n",
    "'''\n"
   ]
  },
  {
   "cell_type": "code",
   "execution_count": 36,
   "metadata": {},
   "outputs": [
    {
     "name": "stderr",
     "output_type": "stream",
     "text": [
      "C:\\Users\\Joel Fischer\\AppData\\Local\\Temp\\ipykernel_9192\\1524153892.py:2: PerformanceWarning: DataFrame is highly fragmented.  This is usually the result of calling `frame.insert` many times, which has poor performance.  Consider joining all columns at once using pd.concat(axis=1) instead. To get a de-fragmented frame, use `newframe = frame.copy()`\n",
      "  benchmark_table['Number_of_TBxs'] = ''\n",
      "C:\\Users\\Joel Fischer\\AppData\\Local\\Temp\\ipykernel_9192\\1524153892.py:24: PerformanceWarning: DataFrame is highly fragmented.  This is usually the result of calling `frame.insert` many times, which has poor performance.  Consider joining all columns at once using pd.concat(axis=1) instead. To get a de-fragmented frame, use `newframe = frame.copy()`\n",
      "  benchmark_table['Number_of_TBxs_greaterequal_3'] = ''\n"
     ]
    }
   ],
   "source": [
    "# A) Get the sum of targeted biopsies per Case:\n",
    "benchmark_table['Number_of_TBxs'] = ''\n",
    "TBx_locations = ['TBx_Re_Base',\n",
    "                        'TBx_Re_Mid',\n",
    "                        'TBx_Re_Apex',\n",
    "                        'TBx_Li_Base',\n",
    "                        'TBx_Li_Mid',\n",
    "                        'TBx_Li_Apex',\n",
    "                        'TBx_Li_lateral',\n",
    "                        'TBx_Li_medial',\n",
    "                        'TBx_Re_lateral',\n",
    "                        'TBx_Re_medial'\n",
    "]\n",
    "\n",
    "for Case in benchmark_table.index:\n",
    "    sum = 0\n",
    "    for location in TBx_locations:\n",
    "        if benchmark_table.loc[Case,location] == None:\n",
    "            continue\n",
    "        else:\n",
    "            sum = sum + 1\n",
    "    benchmark_table.loc[Case,'Number_of_TBxs'] = sum\n",
    "\n",
    "benchmark_table['Number_of_TBxs_greaterequal_3'] = ''\n",
    "\n",
    "for Case in benchmark_table.index:\n",
    "    sum = 0\n",
    "    for location in TBx_locations:\n",
    "        if benchmark_table.loc[Case,location] == None:\n",
    "            continue\n",
    "        if benchmark_table.loc[Case,location] == '0':\n",
    "            continue\n",
    "        if benchmark_table.loc[Case,location] == '1':\n",
    "            continue\n",
    "        if benchmark_table.loc[Case,location] == '2':\n",
    "            continue        \n",
    "        else:\n",
    "                sum = sum + 1\n",
    "    benchmark_table.loc[Case,'Number_of_TBxs_greaterequal_3'] = sum\n"
   ]
  },
  {
   "cell_type": "code",
   "execution_count": 37,
   "metadata": {},
   "outputs": [
    {
     "name": "stderr",
     "output_type": "stream",
     "text": [
      "C:\\Users\\Joel Fischer\\AppData\\Local\\Temp\\ipykernel_9192\\1247309487.py:4: PerformanceWarning: DataFrame is highly fragmented.  This is usually the result of calling `frame.insert` many times, which has poor performance.  Consider joining all columns at once using pd.concat(axis=1) instead. To get a de-fragmented frame, use `newframe = frame.copy()`\n",
      "  benchmark_table['lesions_seen_by_Reader1'] = ''\n",
      "C:\\Users\\Joel Fischer\\AppData\\Local\\Temp\\ipykernel_9192\\1247309487.py:5: PerformanceWarning: DataFrame is highly fragmented.  This is usually the result of calling `frame.insert` many times, which has poor performance.  Consider joining all columns at once using pd.concat(axis=1) instead. To get a de-fragmented frame, use `newframe = frame.copy()`\n",
      "  benchmark_table['lesions_seen_by_Reader2'] = ''\n",
      "C:\\Users\\Joel Fischer\\AppData\\Local\\Temp\\ipykernel_9192\\1247309487.py:6: PerformanceWarning: DataFrame is highly fragmented.  This is usually the result of calling `frame.insert` many times, which has poor performance.  Consider joining all columns at once using pd.concat(axis=1) instead. To get a de-fragmented frame, use `newframe = frame.copy()`\n",
      "  benchmark_table['lesions_seen_by_Reader3'] = ''\n"
     ]
    },
    {
     "name": "stdout",
     "output_type": "stream",
     "text": [
      "Number of lesions seen by Reader 1: 63(13)\n",
      "Number of lesions seen by Reader 2: 76(16)\n",
      "Number of lesions seen by Reader 3: 100(16)\n"
     ]
    }
   ],
   "source": [
    "# B) Get the number of lesions seen by reader 1,2,3 and in brackets the number of those lesions with a Gleason score >= 3.\n",
    "#example: 2(1) means that this reader saw lesions in 2 sextants/quadrants and of those 2 lesions 1 was marked as TRUE histopathologically.\n",
    "\n",
    "benchmark_table['lesions_seen_by_Reader1'] = ''\n",
    "benchmark_table['lesions_seen_by_Reader2'] = ''\n",
    "benchmark_table['lesions_seen_by_Reader3'] = ''\n",
    "\n",
    "readers = ['Reader1',\n",
    "           'Reader2',\n",
    "           'Reader3' \n",
    "]\n",
    "\n",
    "reader_decisions = ['_TBx_Re_Base_positive',\n",
    "                               '_TBx_Re_Mid_positive',\n",
    "                               '_TBx_Re_Apex_positive',\n",
    "                               '_TBx_Li_Base_positive',\n",
    "                               '_TBx_Li_Mid_positive',\n",
    "                               '_TBx_Li_Apex_positive',\n",
    "                               '_TBx_Li_Lateral_positive',\n",
    "                               '_TBx_Li_Medial_positive',\n",
    "                               '_TBx_Re_Lateral_positive',\n",
    "                               '_TBx_Re_Medial_positive'\n",
    "]\n",
    "\n",
    "readers_contingency = ['_TBx_Re_Base',\n",
    "                               '_TBx_Re_Mid',\n",
    "                               '_TBx_Re_Apex',\n",
    "                               '_TBx_Li_Base',\n",
    "                               '_TBx_Li_Mid',\n",
    "                               '_TBx_Li_Apex',\n",
    "                               '_TBx_Li_Lateral',\n",
    "                               '_TBx_Li_Medial',\n",
    "                               '_TBx_Re_Lateral',\n",
    "                               '_TBx_Re_Medial'\n",
    "]\n",
    "\n",
    "\n",
    "sum_reader1 = 0\n",
    "sum_GT_reader1 = 0\n",
    "sum_reader2 = 0\n",
    "sum_GT_reader2 = 0\n",
    "sum_reader3 = 0\n",
    "sum_GT_reader3 = 0\n",
    "\n",
    "for reader in readers:\n",
    "    for Case in benchmark_table.index:\n",
    "        sum_lesions = 0\n",
    "        sum_GT_lesions = 0\n",
    "        for reader_decision in readers_contingency:\n",
    "            reader_column = reader + reader_decision\n",
    "            if benchmark_table.loc[Case,reader_column] == 'TP':\n",
    "                sum_lesions = sum_lesions + 1\n",
    "                sum_GT_lesions = sum_GT_lesions + 1\n",
    "            if benchmark_table.loc[Case,reader_column] == 'FP':\n",
    "                sum_lesions = sum_lesions + 1\n",
    "        column_name = 'lesions_seen_by_' + reader\n",
    "        benchmark_table.loc[Case, column_name] = str(sum_lesions) + '(' + str(sum_GT_lesions) + ')'\n",
    "\n",
    "        if reader == 'Reader1':\n",
    "            sum_reader1 = sum_reader1 + sum_lesions\n",
    "            sum_GT_reader1 = sum_GT_reader1 + sum_GT_lesions\n",
    "        if reader == 'Reader2':\n",
    "            sum_reader2 = sum_reader2 + sum_lesions\n",
    "            sum_GT_reader2 = sum_GT_reader2 + sum_GT_lesions    \n",
    "        if reader == 'Reader3':\n",
    "            sum_reader3 = sum_reader3 + sum_lesions\n",
    "            sum_GT_reader3 = sum_GT_reader3 + sum_GT_lesions\n",
    "\n",
    "print('Number of lesions seen by Reader 1: ' + str(sum_reader1) + '(' + str(sum_GT_reader1) + ')')\n",
    "print('Number of lesions seen by Reader 2: ' + str(sum_reader2) + '(' + str(sum_GT_reader2) + ')')\n",
    "print('Number of lesions seen by Reader 3: ' + str(sum_reader3) + '(' + str(sum_GT_reader3) + ')')"
   ]
  },
  {
   "cell_type": "code",
   "execution_count": 38,
   "metadata": {},
   "outputs": [],
   "source": [
    "def split_and_to_numeric(value):\n",
    "    number = pd.to_numeric(value.split('(')[1].split(')')[0])\n",
    "    return number"
   ]
  },
  {
   "cell_type": "code",
   "execution_count": 39,
   "metadata": {},
   "outputs": [
    {
     "name": "stderr",
     "output_type": "stream",
     "text": [
      "C:\\Users\\Joel Fischer\\AppData\\Local\\Temp\\ipykernel_9192\\1203588728.py:9: PerformanceWarning: DataFrame is highly fragmented.  This is usually the result of calling `frame.insert` many times, which has poor performance.  Consider joining all columns at once using pd.concat(axis=1) instead. To get a de-fragmented frame, use `newframe = frame.copy()`\n",
      "  benchmark_table['Reader_score'] = ''\n"
     ]
    },
    {
     "name": "stdout",
     "output_type": "stream",
     "text": [
      "Number of Cases with reader score -1: 9\n",
      "Number of Cases with reader score 0: 42\n",
      "Number of Cases with reader score 1: 4\n",
      "Number of Cases with reader score 2: 6\n",
      "Number of Cases with reader score 3: 8\n"
     ]
    }
   ],
   "source": [
    "'''\n",
    "Reader Score: (per patient)\n",
    "-1: No reader correctly identified one or more Gleason score >= 3 lesion\n",
    "0: There was no Gleason score >= 3 leasion in this patient\n",
    "1: 1 reader correctly identified one or more Gleason score >= 3 lesion\n",
    "2: 2 readers correctly identified one or more Gleason score >= 3 lesion\n",
    "3: All 3 readers correctly identified one or more Gleason score >= 3 lesion\n",
    "'''\n",
    "benchmark_table['Reader_score'] = ''\n",
    "\n",
    "number_of_minus_1s = 0\n",
    "number_of_0s = 0\n",
    "number_of_1s = 0\n",
    "number_of_2s = 0\n",
    "number_of_3s = 0\n",
    "\n",
    "#It looks a bit messy as we have to split the entries as they are strings\n",
    "for Case in benchmark_table.index:\n",
    "    #score: 0:\n",
    "    if Case not in list(TBx_score_greatereq_3['other_aval_ID']):\n",
    "        benchmark_table.loc[Case, 'Reader_score'] = 0\n",
    "        number_of_0s = number_of_0s + 1\n",
    "        continue\n",
    "    #score = -1:\n",
    "    if split_and_to_numeric(benchmark_table.loc[Case, 'lesions_seen_by_Reader1']) == 0 and split_and_to_numeric(benchmark_table.loc[Case, 'lesions_seen_by_Reader2']) == 0 and split_and_to_numeric(benchmark_table.loc[Case, 'lesions_seen_by_Reader3']) == 0:\n",
    "        benchmark_table.loc[Case, 'Reader_score'] = -1\n",
    "        number_of_minus_1s = number_of_minus_1s + 1\n",
    "    #score = 1:\n",
    "    if split_and_to_numeric(benchmark_table.loc[Case, 'lesions_seen_by_Reader1']) == 0 and split_and_to_numeric(benchmark_table.loc[Case, 'lesions_seen_by_Reader2']) == 0 and split_and_to_numeric(benchmark_table.loc[Case, 'lesions_seen_by_Reader3']) > 0:\n",
    "        benchmark_table.loc[Case, 'Reader_score'] = 1\n",
    "        number_of_1s = number_of_1s + 1\n",
    "    if split_and_to_numeric(benchmark_table.loc[Case, 'lesions_seen_by_Reader1']) > 0 and split_and_to_numeric(benchmark_table.loc[Case, 'lesions_seen_by_Reader2']) == 0 and split_and_to_numeric(benchmark_table.loc[Case, 'lesions_seen_by_Reader3']) == 0:\n",
    "        benchmark_table.loc[Case, 'Reader_score'] = 1\n",
    "        number_of_1s = number_of_1s + 1\n",
    "    if split_and_to_numeric(benchmark_table.loc[Case, 'lesions_seen_by_Reader1']) == 0 and split_and_to_numeric(benchmark_table.loc[Case, 'lesions_seen_by_Reader2']) > 0 and split_and_to_numeric(benchmark_table.loc[Case, 'lesions_seen_by_Reader3']) == 0:\n",
    "        benchmark_table.loc[Case, 'Reader_score'] = 1\n",
    "        number_of_1s = number_of_1s + 1\n",
    "    #score = 2:\n",
    "    if split_and_to_numeric(benchmark_table.loc[Case, 'lesions_seen_by_Reader1']) == 0 and split_and_to_numeric(benchmark_table.loc[Case, 'lesions_seen_by_Reader2']) > 0 and split_and_to_numeric(benchmark_table.loc[Case, 'lesions_seen_by_Reader3']) > 0:\n",
    "        benchmark_table.loc[Case, 'Reader_score'] = 2\n",
    "        number_of_2s = number_of_2s + 1\n",
    "    if split_and_to_numeric(benchmark_table.loc[Case, 'lesions_seen_by_Reader1']) > 0 and split_and_to_numeric(benchmark_table.loc[Case, 'lesions_seen_by_Reader2']) == 0 and split_and_to_numeric(benchmark_table.loc[Case, 'lesions_seen_by_Reader3']) > 0:\n",
    "        benchmark_table.loc[Case, 'Reader_score'] = 2\n",
    "        number_of_2s = number_of_2s + 1\n",
    "    if split_and_to_numeric(benchmark_table.loc[Case, 'lesions_seen_by_Reader1']) > 0 and split_and_to_numeric(benchmark_table.loc[Case, 'lesions_seen_by_Reader2']) > 0 and split_and_to_numeric(benchmark_table.loc[Case, 'lesions_seen_by_Reader3']) == 0:\n",
    "        benchmark_table.loc[Case, 'Reader_score'] = 2\n",
    "        number_of_2s = number_of_2s + 1\n",
    "    #score = 3:\n",
    "    if split_and_to_numeric(benchmark_table.loc[Case, 'lesions_seen_by_Reader1']) > 0 and split_and_to_numeric(benchmark_table.loc[Case, 'lesions_seen_by_Reader2']) > 0 and split_and_to_numeric(benchmark_table.loc[Case, 'lesions_seen_by_Reader3']) > 0:\n",
    "        benchmark_table.loc[Case, 'Reader_score'] = 3\n",
    "        number_of_3s = number_of_3s + 1\n",
    "\n",
    "\n",
    "print('Number of Cases with reader score -1: ' + str(number_of_minus_1s))\n",
    "print('Number of Cases with reader score 0: ' + str(number_of_0s))\n",
    "print('Number of Cases with reader score 1: ' + str(number_of_1s))\n",
    "print('Number of Cases with reader score 2: ' + str(number_of_2s))\n",
    "print('Number of Cases with reader score 3: ' + str(number_of_3s))"
   ]
  },
  {
   "cell_type": "code",
   "execution_count": 40,
   "metadata": {},
   "outputs": [],
   "source": [
    "def split_and_to_numeric_agreement(value):\n",
    "    number = pd.to_numeric(value.split('(')[0])\n",
    "    return number"
   ]
  },
  {
   "cell_type": "code",
   "execution_count": 41,
   "metadata": {},
   "outputs": [
    {
     "name": "stdout",
     "output_type": "stream",
     "text": [
      "Number of Cases with reader agreement score 0: 10\n",
      "Number of Cases with reader agreement score 1: 16\n",
      "Number of Cases with reader agreement score 2: 15\n",
      "Number of Cases with reader agreement score 3: 28\n"
     ]
    },
    {
     "name": "stderr",
     "output_type": "stream",
     "text": [
      "C:\\Users\\Joel Fischer\\AppData\\Local\\Temp\\ipykernel_9192\\779769720.py:11: PerformanceWarning: DataFrame is highly fragmented.  This is usually the result of calling `frame.insert` many times, which has poor performance.  Consider joining all columns at once using pd.concat(axis=1) instead. To get a de-fragmented frame, use `newframe = frame.copy()`\n",
      "  benchmark_table['Reader_agreement_score'] = ''\n"
     ]
    }
   ],
   "source": [
    "'''\n",
    "Reader Agreeement score: Patient wise\n",
    "For lesions with Gleason score >= 3.\n",
    "\n",
    "0: None of the readers saw at least one Lesion in this patient:\n",
    "1: one of the readers saw least one lesion in this patient:\n",
    "2 two of the readers saw least one lesion in this patient:\n",
    "3: all three of the readers saw least one lesion in this patient:\n",
    "'''\n",
    "\n",
    "benchmark_table['Reader_agreement_score'] = ''\n",
    "\n",
    "number_of_0s = 0\n",
    "number_of_1s = 0\n",
    "number_of_2s = 0\n",
    "number_of_3s = 0\n",
    "\n",
    "\n",
    "for Case in benchmark_table.index:\n",
    "    #score = 0:\n",
    "    if split_and_to_numeric_agreement(benchmark_table.loc[Case, 'lesions_seen_by_Reader1']) == 0 and split_and_to_numeric_agreement(benchmark_table.loc[Case, 'lesions_seen_by_Reader2']) == 0 and split_and_to_numeric_agreement(benchmark_table.loc[Case, 'lesions_seen_by_Reader3']) == 0:\n",
    "        benchmark_table.loc[Case, 'Reader_agreement_score'] = 0\n",
    "        number_of_0s = number_of_0s + 1\n",
    "\n",
    "    #score = 1:\n",
    "    if split_and_to_numeric_agreement(benchmark_table.loc[Case, 'lesions_seen_by_Reader1']) == 0 and split_and_to_numeric_agreement(benchmark_table.loc[Case, 'lesions_seen_by_Reader2']) == 0 and split_and_to_numeric_agreement(benchmark_table.loc[Case, 'lesions_seen_by_Reader3']) > 0:\n",
    "        benchmark_table.loc[Case, 'Reader_agreement_score'] = 1\n",
    "        number_of_1s = number_of_1s + 1\n",
    "    if split_and_to_numeric_agreement(benchmark_table.loc[Case, 'lesions_seen_by_Reader1']) == 0 and split_and_to_numeric_agreement(benchmark_table.loc[Case, 'lesions_seen_by_Reader2']) > 0 and split_and_to_numeric_agreement(benchmark_table.loc[Case, 'lesions_seen_by_Reader3']) == 0:\n",
    "        benchmark_table.loc[Case, 'Reader_agreement_score'] = 1\n",
    "        number_of_1s = number_of_1s + 1\n",
    "    if split_and_to_numeric_agreement(benchmark_table.loc[Case, 'lesions_seen_by_Reader1']) > 0 and split_and_to_numeric_agreement(benchmark_table.loc[Case, 'lesions_seen_by_Reader2']) == 0 and split_and_to_numeric_agreement(benchmark_table.loc[Case, 'lesions_seen_by_Reader3']) == 0:\n",
    "        benchmark_table.loc[Case, 'Reader_agreement_score'] = 1\n",
    "        number_of_1s = number_of_1s + 1\n",
    "    \n",
    "    #score = 2:\n",
    "    if split_and_to_numeric_agreement(benchmark_table.loc[Case, 'lesions_seen_by_Reader1']) == 0 and split_and_to_numeric_agreement(benchmark_table.loc[Case, 'lesions_seen_by_Reader2']) > 0 and split_and_to_numeric_agreement(benchmark_table.loc[Case, 'lesions_seen_by_Reader3']) > 0:\n",
    "        benchmark_table.loc[Case, 'Reader_agreement_score'] = 2\n",
    "        number_of_2s = number_of_2s + 1\n",
    "    if split_and_to_numeric_agreement(benchmark_table.loc[Case, 'lesions_seen_by_Reader1']) > 0 and split_and_to_numeric_agreement(benchmark_table.loc[Case, 'lesions_seen_by_Reader2']) > 0 and split_and_to_numeric_agreement(benchmark_table.loc[Case, 'lesions_seen_by_Reader3']) == 0:\n",
    "        benchmark_table.loc[Case, 'Reader_agreement_score'] = 2\n",
    "        number_of_2s = number_of_2s + 1\n",
    "    if split_and_to_numeric_agreement(benchmark_table.loc[Case, 'lesions_seen_by_Reader1']) > 0 and split_and_to_numeric_agreement(benchmark_table.loc[Case, 'lesions_seen_by_Reader2']) == 0 and split_and_to_numeric_agreement(benchmark_table.loc[Case, 'lesions_seen_by_Reader3']) > 0:\n",
    "        benchmark_table.loc[Case, 'Reader_agreement_score'] = 2\n",
    "        number_of_2s = number_of_2s + 1\n",
    "    \n",
    "    #score = 3:\n",
    "    if split_and_to_numeric_agreement(benchmark_table.loc[Case, 'lesions_seen_by_Reader1']) > 0 and split_and_to_numeric_agreement(benchmark_table.loc[Case, 'lesions_seen_by_Reader2']) > 0 and split_and_to_numeric_agreement(benchmark_table.loc[Case, 'lesions_seen_by_Reader3']) > 0:\n",
    "        benchmark_table.loc[Case, 'Reader_agreement_score'] = 3\n",
    "        number_of_3s = number_of_3s + 1\n",
    "\n",
    "\n",
    "print('Number of Cases with reader agreement score 0: ' + str(number_of_0s))\n",
    "print('Number of Cases with reader agreement score 1: ' + str(number_of_1s))\n",
    "print('Number of Cases with reader agreement score 2: ' + str(number_of_2s))\n",
    "print('Number of Cases with reader agreement score 3: ' + str(number_of_3s))"
   ]
  },
  {
   "cell_type": "markdown",
   "metadata": {},
   "source": [
    "# Create a heatmap for Looking at Gleason scores per Reader:"
   ]
  },
  {
   "cell_type": "code",
   "execution_count": 42,
   "metadata": {},
   "outputs": [],
   "source": [
    "row_names = ['Reader1_TP', 'Reader1_FP','Reader1_FN','Reader1_TN','Reader2_TP','Reader2_FP','Reader2_FN','Reader2_TN','Reader3_TP','Reader3_FP','Reader3_FN','Reader3_TN']\n",
    "\n",
    "heat_map_table = pd.DataFrame(0, index = row_names, columns = [None,'0','1','2','3','4','5','6','7','8','9','10'])\n",
    "\n",
    "readers = ['Reader1_',\n",
    "           'Reader2_',\n",
    "           'Reader3_' \n",
    "]\n",
    "\n",
    "benchmark_table.rename(columns={\"TBx_Li_lateral\": \"TBx_Li_Lateral\",\n",
    "                                \"TBx_Li_medial\": \"TBx_Li_Medial\",\n",
    "                                \"TBx_Re_lateral\": \"TBx_Re_Lateral\",\n",
    "                                \"TBx_Re_medial\": \"TBx_Re_Medial\"}, inplace=True)\n",
    "\n",
    "localizations = ['TBx_Re_Base',\n",
    "                               'TBx_Re_Mid',\n",
    "                               'TBx_Re_Apex',\n",
    "                               'TBx_Li_Base',\n",
    "                               'TBx_Li_Mid',\n",
    "                               'TBx_Li_Apex',\n",
    "                               'TBx_Li_Lateral',\n",
    "                               'TBx_Li_Medial',\n",
    "                               'TBx_Re_Lateral',\n",
    "                               'TBx_Re_Medial'\n",
    "]\n",
    "for Reader in readers:\n",
    "    for localization in localizations:\n",
    "        reader_localization = str(Reader) + str(localization)\n",
    "        for Case in benchmark_table.index:\n",
    "            if benchmark_table.loc[Case, reader_localization] == 'TP':\n",
    "                rowname = str(Reader) + 'TP'\n",
    "                heat_map_table.loc[rowname,benchmark_table.loc[Case, localization]] = heat_map_table.loc[rowname,benchmark_table.loc[Case, localization]] + 1\n",
    "            if benchmark_table.loc[Case, reader_localization] == 'FP':\n",
    "                rowname = str(Reader) + 'FP'\n",
    "                heat_map_table.loc[rowname,benchmark_table.loc[Case, localization]] = heat_map_table.loc[rowname,benchmark_table.loc[Case, localization]] + 1\n",
    "            if benchmark_table.loc[Case, reader_localization] == 'FN':\n",
    "                rowname = str(Reader) + 'FN'\n",
    "                heat_map_table.loc[rowname,benchmark_table.loc[Case, localization]] = heat_map_table.loc[rowname,benchmark_table.loc[Case, localization]] + 1\n",
    "            if benchmark_table.loc[Case, reader_localization] == 'TN':\n",
    "                rowname = str(Reader) + 'TN'\n",
    "                heat_map_table.loc[rowname,benchmark_table.loc[Case, localization]] = heat_map_table.loc[rowname,benchmark_table.loc[Case, localization]] + 1\n",
    "\n",
    "            \n",
    "\n",
    "   \n",
    "\n",
    "heat_map_table.rename(columns={None: 'No_TBx'}, inplace=True)"
   ]
  },
  {
   "cell_type": "code",
   "execution_count": 43,
   "metadata": {},
   "outputs": [
    {
     "data": {
      "image/png": "[encoded data removed]",
      "text/plain": [
       "<Figure size 1100x900 with 2 Axes>"
      ]
     },
     "metadata": {},
     "output_type": "display_data"
    }
   ],
   "source": [
    "import seaborn as sns\n",
    "import matplotlib.pyplot as plt\n",
    "\n",
    "readers = ['Reader1',\n",
    "           'Reader2',\n",
    "           'Reader3' \n",
    "]\n",
    "\n",
    "f, ax = plt.subplots(figsize=(11, 9))\n",
    "\n",
    "cmap = sns.diverging_palette(230, 20, as_cmap=True)\n",
    "sns.heatmap(heat_map_table,cmap=cmap)\n",
    "plt.xlabel('Gleason score per Lesion. \\n No_TBx means that these Lesions had no tagreted biopsy done')\n",
    "plt.title('Number of Lesions per Gleason Score classified by the three Readers')\n",
    "\n",
    "plt.savefig('Heatmap_Number_of_Lesions_ge3')"
   ]
  },
  {
   "cell_type": "code",
   "execution_count": 44,
   "metadata": {},
   "outputs": [
    {
     "data": {
      "text/html": [
       "<div>\n",
       "<style scoped>\n",
       "    .dataframe tbody tr th:only-of-type {\n",
       "        vertical-align: middle;\n",
       "    }\n",
       "\n",
       "    .dataframe tbody tr th {\n",
       "        vertical-align: top;\n",
       "    }\n",
       "\n",
       "    .dataframe thead th {\n",
       "        text-align: right;\n",
       "    }\n",
       "</style>\n",
       "<table border=\"1\" class=\"dataframe\">\n",
       "  <thead>\n",
       "    <tr style=\"text-align: right;\">\n",
       "      <th></th>\n",
       "      <th>No_TBx</th>\n",
       "      <th>0</th>\n",
       "      <th>1</th>\n",
       "      <th>2</th>\n",
       "      <th>3</th>\n",
       "      <th>4</th>\n",
       "      <th>5</th>\n",
       "      <th>6</th>\n",
       "      <th>7</th>\n",
       "      <th>8</th>\n",
       "      <th>9</th>\n",
       "      <th>10</th>\n",
       "    </tr>\n",
       "  </thead>\n",
       "  <tbody>\n",
       "    <tr>\n",
       "      <th>Reader1_TP</th>\n",
       "      <td>0</td>\n",
       "      <td>0</td>\n",
       "      <td>0</td>\n",
       "      <td>0</td>\n",
       "      <td>6</td>\n",
       "      <td>2</td>\n",
       "      <td>2</td>\n",
       "      <td>2</td>\n",
       "      <td>1</td>\n",
       "      <td>0</td>\n",
       "      <td>0</td>\n",
       "      <td>0</td>\n",
       "    </tr>\n",
       "    <tr>\n",
       "      <th>Reader1_FP</th>\n",
       "      <td>28</td>\n",
       "      <td>17</td>\n",
       "      <td>4</td>\n",
       "      <td>1</td>\n",
       "      <td>0</td>\n",
       "      <td>0</td>\n",
       "      <td>0</td>\n",
       "      <td>0</td>\n",
       "      <td>0</td>\n",
       "      <td>0</td>\n",
       "      <td>0</td>\n",
       "      <td>0</td>\n",
       "    </tr>\n",
       "    <tr>\n",
       "      <th>Reader1_FN</th>\n",
       "      <td>0</td>\n",
       "      <td>0</td>\n",
       "      <td>0</td>\n",
       "      <td>0</td>\n",
       "      <td>15</td>\n",
       "      <td>6</td>\n",
       "      <td>1</td>\n",
       "      <td>3</td>\n",
       "      <td>0</td>\n",
       "      <td>1</td>\n",
       "      <td>0</td>\n",
       "      <td>0</td>\n",
       "    </tr>\n",
       "    <tr>\n",
       "      <th>Reader1_TN</th>\n",
       "      <td>165</td>\n",
       "      <td>102</td>\n",
       "      <td>12</td>\n",
       "      <td>2</td>\n",
       "      <td>0</td>\n",
       "      <td>0</td>\n",
       "      <td>0</td>\n",
       "      <td>0</td>\n",
       "      <td>0</td>\n",
       "      <td>0</td>\n",
       "      <td>0</td>\n",
       "      <td>0</td>\n",
       "    </tr>\n",
       "    <tr>\n",
       "      <th>Reader2_TP</th>\n",
       "      <td>0</td>\n",
       "      <td>0</td>\n",
       "      <td>0</td>\n",
       "      <td>0</td>\n",
       "      <td>9</td>\n",
       "      <td>3</td>\n",
       "      <td>2</td>\n",
       "      <td>1</td>\n",
       "      <td>1</td>\n",
       "      <td>0</td>\n",
       "      <td>0</td>\n",
       "      <td>0</td>\n",
       "    </tr>\n",
       "    <tr>\n",
       "      <th>Reader2_FP</th>\n",
       "      <td>29</td>\n",
       "      <td>25</td>\n",
       "      <td>3</td>\n",
       "      <td>3</td>\n",
       "      <td>0</td>\n",
       "      <td>0</td>\n",
       "      <td>0</td>\n",
       "      <td>0</td>\n",
       "      <td>0</td>\n",
       "      <td>0</td>\n",
       "      <td>0</td>\n",
       "      <td>0</td>\n",
       "    </tr>\n",
       "    <tr>\n",
       "      <th>Reader2_FN</th>\n",
       "      <td>0</td>\n",
       "      <td>0</td>\n",
       "      <td>0</td>\n",
       "      <td>0</td>\n",
       "      <td>12</td>\n",
       "      <td>5</td>\n",
       "      <td>1</td>\n",
       "      <td>4</td>\n",
       "      <td>0</td>\n",
       "      <td>1</td>\n",
       "      <td>0</td>\n",
       "      <td>0</td>\n",
       "    </tr>\n",
       "    <tr>\n",
       "      <th>Reader2_TN</th>\n",
       "      <td>164</td>\n",
       "      <td>94</td>\n",
       "      <td>13</td>\n",
       "      <td>0</td>\n",
       "      <td>0</td>\n",
       "      <td>0</td>\n",
       "      <td>0</td>\n",
       "      <td>0</td>\n",
       "      <td>0</td>\n",
       "      <td>0</td>\n",
       "      <td>0</td>\n",
       "      <td>0</td>\n",
       "    </tr>\n",
       "    <tr>\n",
       "      <th>Reader3_TP</th>\n",
       "      <td>0</td>\n",
       "      <td>0</td>\n",
       "      <td>0</td>\n",
       "      <td>0</td>\n",
       "      <td>7</td>\n",
       "      <td>4</td>\n",
       "      <td>2</td>\n",
       "      <td>1</td>\n",
       "      <td>1</td>\n",
       "      <td>1</td>\n",
       "      <td>0</td>\n",
       "      <td>0</td>\n",
       "    </tr>\n",
       "    <tr>\n",
       "      <th>Reader3_FP</th>\n",
       "      <td>49</td>\n",
       "      <td>27</td>\n",
       "      <td>6</td>\n",
       "      <td>2</td>\n",
       "      <td>0</td>\n",
       "      <td>0</td>\n",
       "      <td>0</td>\n",
       "      <td>0</td>\n",
       "      <td>0</td>\n",
       "      <td>0</td>\n",
       "      <td>0</td>\n",
       "      <td>0</td>\n",
       "    </tr>\n",
       "    <tr>\n",
       "      <th>Reader3_FN</th>\n",
       "      <td>0</td>\n",
       "      <td>0</td>\n",
       "      <td>0</td>\n",
       "      <td>0</td>\n",
       "      <td>14</td>\n",
       "      <td>4</td>\n",
       "      <td>1</td>\n",
       "      <td>4</td>\n",
       "      <td>0</td>\n",
       "      <td>0</td>\n",
       "      <td>0</td>\n",
       "      <td>0</td>\n",
       "    </tr>\n",
       "    <tr>\n",
       "      <th>Reader3_TN</th>\n",
       "      <td>144</td>\n",
       "      <td>92</td>\n",
       "      <td>10</td>\n",
       "      <td>1</td>\n",
       "      <td>0</td>\n",
       "      <td>0</td>\n",
       "      <td>0</td>\n",
       "      <td>0</td>\n",
       "      <td>0</td>\n",
       "      <td>0</td>\n",
       "      <td>0</td>\n",
       "      <td>0</td>\n",
       "    </tr>\n",
       "  </tbody>\n",
       "</table>\n",
       "</div>"
      ],
      "text/plain": [
       "            No_TBx    0   1  2   3  4  5  6  7  8  9  10\n",
       "Reader1_TP       0    0   0  0   6  2  2  2  1  0  0   0\n",
       "Reader1_FP      28   17   4  1   0  0  0  0  0  0  0   0\n",
       "Reader1_FN       0    0   0  0  15  6  1  3  0  1  0   0\n",
       "Reader1_TN     165  102  12  2   0  0  0  0  0  0  0   0\n",
       "Reader2_TP       0    0   0  0   9  3  2  1  1  0  0   0\n",
       "Reader2_FP      29   25   3  3   0  0  0  0  0  0  0   0\n",
       "Reader2_FN       0    0   0  0  12  5  1  4  0  1  0   0\n",
       "Reader2_TN     164   94  13  0   0  0  0  0  0  0  0   0\n",
       "Reader3_TP       0    0   0  0   7  4  2  1  1  1  0   0\n",
       "Reader3_FP      49   27   6  2   0  0  0  0  0  0  0   0\n",
       "Reader3_FN       0    0   0  0  14  4  1  4  0  0  0   0\n",
       "Reader3_TN     144   92  10  1   0  0  0  0  0  0  0   0"
      ]
     },
     "execution_count": 44,
     "metadata": {},
     "output_type": "execute_result"
    }
   ],
   "source": [
    "heat_map_table"
   ]
  },
  {
   "cell_type": "code",
   "execution_count": 45,
   "metadata": {},
   "outputs": [
    {
     "name": "stdout",
     "output_type": "stream",
     "text": [
      "For Gleason score >= 3 as ground truth:\n",
      "\n",
      "\n",
      "Reader 1, Specificity: 0.37\n",
      " \t  Sensitivity: 0.33\n",
      "\t  Accuracy: 0.73\n",
      "\n",
      "Reader 2, Specificity: 0.34\n",
      " \t  Sensitivity: 0.41\n",
      "\t  Accuracy: 0.69\n",
      "\n",
      "Reader 3, Specificity: 0.31\n",
      " \t  Sensitivity: 0.41\n",
      "\t  Accuracy: 0.67\n"
     ]
    }
   ],
   "source": [
    "#Create a ROC curve for the three readers:\n",
    "\n",
    "#Sum up the rows in the heatmap table: But only the biopsies\n",
    "heat_map_table['sum_biopsies'] = ''\n",
    "for row in heat_map_table.index:\n",
    "    sum = 0\n",
    "    for col in heat_map_table.columns:\n",
    "        if col != 'sum_biopsies' and col != 'No_TBx':\n",
    "            sum = sum + heat_map_table.loc[row,col]\n",
    "    heat_map_table.loc[row,'sum_biopsies'] = sum\n",
    "\n",
    "heat_map_table.to_excel('Heatmap_table_Number_of_Lesions_ge3.xlsx')\n",
    "#Calculate the specificity and sensitivity and Accuracy:\n",
    "\n",
    "def Specificity(TP,FP):\n",
    "    return round(TP/(TP+FP),2)\n",
    "  \n",
    "def Sensitivity(TP,FN):\n",
    "    return round(TP/(TP+FN),2)\n",
    "\n",
    "def Accuracy(TP,FP,FN,TN):\n",
    "    return round((TP+TN)/(TP+TN+FP+FN),2)\n",
    "\n",
    "#Reader 1:\n",
    "print('For Gleason score >= 3 as ground truth:\\n\\n')\n",
    "print('Reader 1, Specificity: ' + str(Specificity(heat_map_table.loc['Reader1_TP','sum_biopsies'], heat_map_table.loc['Reader1_FP','sum_biopsies'])) + '\\n \\t  Sensitivity: ' + str(Sensitivity(heat_map_table.loc['Reader1_TP','sum_biopsies'], heat_map_table.loc['Reader1_FN','sum_biopsies'])))   \n",
    "print('\\t  Accuracy: ' + str(Accuracy(heat_map_table.loc['Reader1_TP','sum_biopsies'], heat_map_table.loc['Reader1_FP','sum_biopsies'],heat_map_table.loc['Reader1_FN','sum_biopsies'],heat_map_table.loc['Reader1_TN','sum_biopsies'])))\n",
    "#Reader 2:\n",
    "print('\\nReader 2, Specificity: ' + str(Specificity(heat_map_table.loc['Reader2_TP','sum_biopsies'], heat_map_table.loc['Reader2_FP','sum_biopsies'])) + '\\n \\t  Sensitivity: ' + str(Sensitivity(heat_map_table.loc['Reader2_TP','sum_biopsies'], heat_map_table.loc['Reader2_FN','sum_biopsies'])))   \n",
    "print('\\t  Accuracy: ' + str(Accuracy(heat_map_table.loc['Reader2_TP','sum_biopsies'], heat_map_table.loc['Reader2_FP','sum_biopsies'],heat_map_table.loc['Reader2_FN','sum_biopsies'],heat_map_table.loc['Reader2_TN','sum_biopsies'])))\n",
    "\n",
    "#Reader 3:\n",
    "print('\\nReader 3, Specificity: ' + str(Specificity(heat_map_table.loc['Reader3_TP','sum_biopsies'], heat_map_table.loc['Reader3_FP','sum_biopsies'])) + '\\n \\t  Sensitivity: ' + str(Sensitivity(heat_map_table.loc['Reader3_TP','sum_biopsies'], heat_map_table.loc['Reader3_FN','sum_biopsies'])))   \n",
    "print('\\t  Accuracy: ' + str(Accuracy(heat_map_table.loc['Reader3_TP','sum_biopsies'], heat_map_table.loc['Reader3_FP','sum_biopsies'],heat_map_table.loc['Reader3_FN','sum_biopsies'],heat_map_table.loc['Reader3_TN','sum_biopsies'])))\n"
   ]
  },
  {
   "cell_type": "markdown",
   "metadata": {},
   "source": [
    "# Add the Reader Opinion to the specific Lesion:"
   ]
  },
  {
   "cell_type": "code",
   "execution_count": 46,
   "metadata": {},
   "outputs": [],
   "source": [
    "#Add to each sextant/quadrant what the Reader classified this leasion as:\n",
    "\n",
    "TBx_locations = ['TBx_Re_Base',\n",
    "                        'TBx_Re_Mid',\n",
    "                        'TBx_Re_Apex',\n",
    "                        'TBx_Li_Base',\n",
    "                        'TBx_Li_Mid',\n",
    "                        'TBx_Li_Apex',\n",
    "                        'TBx_Li_Lateral',\n",
    "                        'TBx_Li_Medial',\n",
    "                        'TBx_Re_Lateral',\n",
    "                        'TBx_Re_Medial'\n",
    "]\n",
    "\n",
    "def True_or_False(string):\n",
    "    if string == False:\n",
    "        return 0\n",
    "    if string == True:\n",
    "        return 1\n",
    "    else: return 'test'\n",
    "\n",
    "\n",
    "for Case in TBx_score_greatereq_3.index:\n",
    "    if Case == 'Number_of_TBx_greaterequal_3':\n",
    "        continue\n",
    "    ID = TBx_score_greatereq_3.loc[Case,'other_aval_ID']\n",
    "\n",
    "    for location in TBx_locations:\n",
    "        if TBx_score_greatereq_3.loc[Case,location] != 'No TBx':\n",
    "            output = str(TBx_score_greatereq_3.loc[Case,location]) + ' (' + str(True_or_False(benchmark_table.loc[ID,'Reader1_'+ str(location)+'_positive'])) + '.' + str(str(True_or_False(benchmark_table.loc[ID,'Reader2_'+ str(location)+'_positive']))) + '.' + str(str(True_or_False(benchmark_table.loc[ID,'Reader3_'+ str(location)+'_positive']))) + ')'\n",
    "            TBx_score_greatereq_3.loc[Case,location] = output\n",
    "\n",
    "\n",
    "\n",
    "TBx_score_greatereq_3.to_excel('TBx_greaterequal_3.xlsx')"
   ]
  },
  {
   "cell_type": "markdown",
   "metadata": {},
   "source": [
    "# Remove the not used part of the table and create an excel file:"
   ]
  },
  {
   "cell_type": "code",
   "execution_count": 92,
   "metadata": {},
   "outputs": [
    {
     "data": {
      "text/html": [
       "<span style=\"None\">Running query in &#x27;duckdb:///:memory:&#x27;</span>"
      ],
      "text/plain": [
       "Running query in 'duckdb:///:memory:'"
      ]
     },
     "metadata": {},
     "output_type": "display_data"
    }
   ],
   "source": [
    "%%sql Benchmark_contingency_table <<\n",
    "drop table if exists Benchmark_contingency_table;\n",
    "CREATE TABLE Benchmark_contingency_table AS\n",
    "SELECT\n",
    "Studies_ID,\n",
    "other_aval_ID,\n",
    "Site,\n",
    "Comment,\n",
    "TBx_Re_Base,\n",
    "TBx_Re_Mid,\n",
    "TBx_Re_Apex,\n",
    "TBx_Li_Base,\n",
    "TBx_Li_Mid,\n",
    "TBx_Li_Apex,\n",
    "TBx_Li_lateral,\n",
    "TBx_Li_medial,\n",
    "TBx_Re_lateral,\n",
    "TBx_Re_medial,\n",
    "Reader1_TBx_Re_Base,\n",
    "Reader1_TBx_Re_Mid,\n",
    "Reader1_TBx_Re_Apex,\n",
    "Reader1_TBx_Li_Base,\n",
    "Reader1_TBx_Li_Mid,\n",
    "Reader1_TBx_Li_Apex,\n",
    "Reader1_TBx_Li_Lateral,\n",
    "Reader1_TBx_Li_Medial,\n",
    "Reader1_TBx_Re_Lateral,\n",
    "Reader1_TBx_Re_Medial,\n",
    "Reader2_TBx_Re_Base,\n",
    "Reader2_TBx_Re_Mid,\n",
    "Reader2_TBx_Re_Apex,\n",
    "Reader2_TBx_Li_Base,\n",
    "Reader2_TBx_Li_Mid,\n",
    "Reader2_TBx_Li_Apex,\n",
    "Reader2_TBx_Li_Lateral,\n",
    "Reader2_TBx_Li_Medial,\n",
    "Reader2_TBx_Re_Lateral,\n",
    "Reader2_TBx_Re_Medial,\n",
    "Reader3_TBx_Re_Base,\n",
    "Reader3_TBx_Re_Mid,\n",
    "Reader3_TBx_Re_Apex,\n",
    "Reader3_TBx_Li_Base,\n",
    "Reader3_TBx_Li_Mid,\n",
    "Reader3_TBx_Li_Apex,\n",
    "Reader3_TBx_Li_Lateral,\n",
    "Reader3_TBx_Li_Medial,\n",
    "Reader3_TBx_Re_Lateral,\n",
    "Reader3_TBx_Re_Medial,\n",
    "FROM benchmark_table"
   ]
  },
  {
   "cell_type": "code",
   "execution_count": 93,
   "metadata": {},
   "outputs": [
    {
     "data": {
      "text/html": [
       "<span style=\"None\">Running query in &#x27;duckdb:///:memory:&#x27;</span>"
      ],
      "text/plain": [
       "Running query in 'duckdb:///:memory:'"
      ]
     },
     "metadata": {},
     "output_type": "display_data"
    }
   ],
   "source": [
    "%%sql benchmark_Case_wise_scores <<\n",
    "drop table if exists benchmark_Case_wise_scores;\n",
    "create table benchmark_Case_wise_scores as\n",
    "select \n",
    "\n",
    "Studies_ID,\n",
    "other_aval_ID,\n",
    "Site,\n",
    "Comment,\n",
    "TBx_Re_Base,\n",
    "TBx_Re_Mid,\n",
    "TBx_Re_Apex,\n",
    "TBx_Li_Base,\n",
    "TBx_Li_Mid,\n",
    "TBx_Li_Apex,\n",
    "TBx_Li_lateral,\n",
    "TBx_Li_medial,\n",
    "TBx_Re_lateral,\n",
    "TBx_Re_medial,\n",
    "Number_of_TBxs,\n",
    "Number_of_TBxs_greaterequal_3,\n",
    "lesions_seen_by_Reader1,\n",
    "lesions_seen_by_Reader2,\n",
    "lesions_seen_by_Reader3,\n",
    "Reader_score,\n",
    "Reader_agreement_score\n",
    "\n",
    "from benchmark_table"
   ]
  },
  {
   "cell_type": "code",
   "execution_count": 94,
   "metadata": {},
   "outputs": [
    {
     "data": {
      "text/html": [
       "<span style=\"None\">Running query in &#x27;duckdb:///:memory:&#x27;</span>"
      ],
      "text/plain": [
       "Running query in 'duckdb:///:memory:'"
      ]
     },
     "metadata": {},
     "output_type": "display_data"
    },
    {
     "data": {
      "text/html": [
       "<div>\n",
       "<style scoped>\n",
       "    .dataframe tbody tr th:only-of-type {\n",
       "        vertical-align: middle;\n",
       "    }\n",
       "\n",
       "    .dataframe tbody tr th {\n",
       "        vertical-align: top;\n",
       "    }\n",
       "\n",
       "    .dataframe thead th {\n",
       "        text-align: right;\n",
       "    }\n",
       "</style>\n",
       "<table border=\"1\" class=\"dataframe\">\n",
       "  <thead>\n",
       "    <tr style=\"text-align: right;\">\n",
       "      <th></th>\n",
       "      <th>Success</th>\n",
       "    </tr>\n",
       "  </thead>\n",
       "  <tbody>\n",
       "  </tbody>\n",
       "</table>\n",
       "</div>"
      ],
      "text/plain": [
       "Empty DataFrame\n",
       "Columns: [Success]\n",
       "Index: []"
      ]
     },
     "execution_count": 94,
     "metadata": {},
     "output_type": "execute_result"
    }
   ],
   "source": [
    "%%sql\n",
    "--COPY (SELECT * FROM Benchmark_contingency_table) TO 'Benchmark_contingency_table_ge3.xlsx' WITH (FORMAT GDAL, DRIVER 'xlsx');\n",
    "COPY (SELECT * FROM benchmark_Case_wise_scores) TO 'Benchmark_Case_wise_scores_ge3.xlsx' WITH (FORMAT GDAL, DRIVER 'xlsx');"
   ]
  }
 ],
 "metadata": {
  "kernelspec": {
   "display_name": "segmentationenv",
   "language": "python",
   "name": "python3"
  },
  "language_info": {
   "codemirror_mode": {
    "name": "ipython",
    "version": 3
   },
   "file_extension": ".py",
   "mimetype": "text/x-python",
   "name": "python",
   "nbconvert_exporter": "python",
   "pygments_lexer": "ipython3",
   "version": "3.11.5"
  }
 },
 "nbformat": 4,
 "nbformat_minor": 2
}
