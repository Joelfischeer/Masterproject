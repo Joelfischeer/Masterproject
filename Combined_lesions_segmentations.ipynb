{
 "cells": [
  {
   "cell_type": "code",
   "execution_count": 1,
   "metadata": {},
   "outputs": [
    {
     "name": "stderr",
     "output_type": "stream",
     "text": [
      "2024-03-18 21:48:23,467:WARNING:From c:\\Users\\Joel Fischer\\.conda\\envs\\segmentationenv\\Lib\\site-packages\\keras\\src\\losses.py:2976: The name tf.losses.sparse_softmax_cross_entropy is deprecated. Please use tf.compat.v1.losses.sparse_softmax_cross_entropy instead.\n",
      "\n"
     ]
    }
   ],
   "source": [
    "import glob\n",
    "import os\n",
    "\n",
    "# Numpy for numpy.arrays\n",
    "import numpy as np\n",
    "import pandas as pd\n",
    "# Include ITK for DICOM reading.\n",
    "import itk\n",
    "\n",
    "# Include pydicom_seg for DICOM SEG objects\n",
    "import pydicom\n",
    "import pydicom_seg\n",
    "\n",
    "# for downloading data from TCIA\n",
    "from tcia_utils import nbia\n",
    "import nibabel as nib\n",
    "# This is the most common import command for itkWidgets.\n",
    "#   The view() function opens an interactive viewer for 2D and 3D\n",
    "#   data in a variety of formats.\n",
    "from itkwidgets import view\n",
    "import matplotlib as plt\n",
    "\n",
    "# imports for monai\n",
    "import torch\n",
    "from monai.data import decollate_batch\n",
    "from monai.bundle import ConfigParser, download\n",
    "from monai.config import print_config\n",
    "\n",
    "import SimpleITK as sitk\n",
    "\n",
    "from tqdm import tqdm"
   ]
  },
  {
   "cell_type": "code",
   "execution_count": 2,
   "metadata": {},
   "outputs": [],
   "source": [
    "#import the pirads file and change the rownames:\n",
    "pirads = pd.read_excel('Pirads_updated_age_PSA.xlsx')\n",
    "pirads.rename(columns={'Unnamed: 0': 'lesion_name'},inplace=True)\n",
    "pirads.index = list(pirads['lesion_name'])\n",
    "pirads.drop('lesion_name',axis=1,inplace=True)"
   ]
  },
  {
   "cell_type": "code",
   "execution_count": 3,
   "metadata": {},
   "outputs": [],
   "source": [
    "translation = pd.read_excel('C:\\\\Users\\\\Joel Fischer\\\\Documents\\\\Masterarbeit\\\\Studie\\\\Projekt\\\\Auswertungsdaten\\\\Benchmark\\\\translation.xlsx')\n",
    "pd.set_option('display.max_columns', None)  # or 1000\n",
    "pd.set_option('display.max_rows', None)  # or 1000\n",
    "translation.drop(8,inplace=True) #remove the bell_0027 case as its metadata is missing. "
   ]
  },
  {
   "cell_type": "code",
   "execution_count": 4,
   "metadata": {},
   "outputs": [],
   "source": [
    "#Get all lesion filenames:\n",
    "lesion_filenames = []\n",
    "directory = 'E:\\\\ksa_study_data'\n",
    "for path, dirs, filenames in os.walk(directory):\n",
    "    for f in filenames:\n",
    "        if f.endswith('.nii.gz'):\n",
    "            #get only the files of the 67 Cases we have biopsied totally:\n",
    "            name = f.split('_')[0].split('-')[0] + '_' + f.split('_')[0].split('-')[1]\n",
    "            #we need to manual add the bell_0045 Case as it is missing in the translation:\n",
    "            if name in list(translation['Case']) or name == 'bell_0045':\n",
    "                #we only want lesions of t2w images, not full prostate segmentations or t2w images:\n",
    "                if f.split('.')[0].split('_')[-1] != 'none':\n",
    "                    if f.split('_')[1] == 't2w':\n",
    "                        if f.split('_')[2] != 'pro':\n",
    "                            lesion_filenames.append(f)"
   ]
  },
  {
   "cell_type": "code",
   "execution_count": 150,
   "metadata": {},
   "outputs": [],
   "source": [
    "def get_segmentation_array_and_metadata(filename):\n",
    "    seg = nib.load(filename)\n",
    "    return (seg.get_fdata(),seg.affine, seg.header)\n",
    "\n",
    "\n",
    "def get_list_of_segmentations(filename_list):\n",
    "    segmentation_list = []\n",
    "    Case = filename_list[0].split('-')[0]\n",
    "    Case_name = filename_list[0].split('_')[0]\n",
    "    affine = get_segmentation_array_and_metadata(f\"E:/ksa_study_data/{Case}/{Case_name}/{filename_list[0]}\")[1]\n",
    "    header = get_segmentation_array_and_metadata(f\"E:/ksa_study_data/{Case}/{Case_name}/{filename_list[0]}\")[2]\n",
    "\n",
    "    for filename in range(len(filename_list)):\n",
    "        Case = filename_list[filename].split('-')[0]\n",
    "        Case_name = filename_list[filename].split('_')[0]\n",
    "        seg = get_segmentation_array_and_metadata(f\"E:/ksa_study_data/{Case}/{Case_name}/{filename_list[filename]}\")[0]\n",
    "        segmentation_list.append(seg)\n",
    "    return (segmentation_list,affine,header)\n",
    "\n",
    "def get_filenames_of_Case(Case_segmentations):\n",
    "    n_pcai100_auto = []\n",
    "    n_rad1_rad = []\n",
    "    n_rad1_ass = []\n",
    "    n_rad2_rad = []\n",
    "    n_rad2_ass = []\n",
    "    n_rad3_rad = []\n",
    "    n_rad3_ass = []\n",
    "\n",
    "    for segmentation in Case_segmentations:\n",
    "        if segmentation.split('.')[-3].split('_')[-1] == 'auto' and segmentation.split('.')[-3].split('_')[-2] == 'pcai100':\n",
    "            n_pcai100_auto.append(segmentation)\n",
    "        if segmentation.split('.')[-3].split('_')[-1] == 'rad' and segmentation.split('.')[-3].split('_')[-2] == 'rad1':\n",
    "            n_rad1_rad.append(segmentation)\n",
    "        if segmentation.split('.')[-3].split('_')[-1] == 'ass' and segmentation.split('.')[-3].split('_')[-2] == 'rad1':\n",
    "            n_rad1_ass.append(segmentation)\n",
    "        if segmentation.split('.')[-3].split('_')[-1] == 'rad' and segmentation.split('.')[-3].split('_')[-2] == 'rad2':\n",
    "            n_rad2_rad.append(segmentation)\n",
    "        if segmentation.split('.')[-3].split('_')[-1] == 'ass' and segmentation.split('.')[-3].split('_')[-2] == 'rad2':\n",
    "            n_rad2_ass.append(segmentation)\n",
    "        if segmentation.split('.')[-3].split('_')[-1] == 'rad' and segmentation.split('.')[-3].split('_')[-2] == 'rad3':\n",
    "            n_rad3_rad.append(segmentation)\n",
    "        if segmentation.split('.')[-3].split('_')[-1] == 'ass' and segmentation.split('.')[-3].split('_')[-2] == 'rad3':\n",
    "            n_rad3_ass.append(segmentation)\n",
    "    return(n_pcai100_auto,n_rad1_rad,n_rad1_ass,n_rad2_rad,n_rad2_ass,n_rad3_rad,n_rad3_ass)\n",
    "\n",
    "def make_binary_array(seg_array):\n",
    "    for i in range(seg_array.shape[0]):\n",
    "        for j in range(seg_array.shape[1]):\n",
    "            for k in range(seg_array.shape[2]):\n",
    "                #if a voxel only belongs to array1:\n",
    "                if seg_array[i,j,k] > 1:\n",
    "                    seg_array[i,j,k] = 1\n",
    "    return seg_array\n",
    "\n",
    "def change_pixel_value(seg_array,pixel_value):\n",
    "    for i in range(seg_array.shape[0]):\n",
    "        for j in range(seg_array.shape[1]):\n",
    "            for k in range(seg_array.shape[2]):\n",
    "                #if a voxel only belongs to array1:\n",
    "                if seg_array[i,j,k] == 1:\n",
    "                    seg_array[i,j,k] = pixel_value\n",
    "    return seg_array\n",
    "\n",
    "\n",
    "def summed_segmentations(segmentation_list):\n",
    "\n",
    "    while len(segmentation_list) > 1: #only add them up, if there are at least 2 segmentations left:\n",
    "\n",
    "        summed_seg = np.where(segmentation_list[0] != 1, 0, 1) + np.where(segmentation_list[1] != 0, 1, 0)\n",
    "        summed_seg_binary = make_binary_array(summed_seg)\n",
    "        del segmentation_list[1]\n",
    "        segmentation_list[0] = summed_seg_binary\n",
    "    return segmentation_list[0]\n",
    "\n",
    "\n",
    "\n",
    "def summed_segmentations_nonbinary(segmentation_list,segdata):\n",
    "\n",
    "    #create an empty dataframe with the same dimensions(try and except because tri20 has no fuseAI segmentation)\n",
    "\n",
    "    final_segmentation =  segdata * 0\n",
    "    seg_number = 1\n",
    "\n",
    "    #if there is only one lesion:\n",
    "    if len(segmentation_list) == 1:\n",
    "        final_segmentation = segmentation_list[0] * 1\n",
    "        return final_segmentation\n",
    "\n",
    "    for seg_number in range(len(segmentation_list)): #only add them up, if there are at least 2 segmentations left:\n",
    "        #loop trough all pixels:\n",
    "        for i in range(segmentation_list[0].shape[0]):\n",
    "            for j in range(segmentation_list[0].shape[1]):\n",
    "                for k in range(segmentation_list[0].shape[2]):\n",
    "\n",
    "                    if final_segmentation[i,j,k] != 0:\n",
    "                        #when the first and second segmentations are both positive:\n",
    "                        if segmentation_list[seg_number][i,j,k] != 0:\n",
    "                            #for an overlap:\n",
    "                            final_segmentation[i,j,k] = 8\n",
    "                        #when the first is positive and the second negative we want the value of the first:\n",
    "                        if segmentation_list[seg_number][i,j,k] == 0:\n",
    "                            final_segmentation[i,j,k] = final_segmentation[i,j,k]\n",
    "\n",
    "                    if final_segmentation[i,j,k] == 0:\n",
    "                        #when both are negative\n",
    "                        if segmentation_list[seg_number][i,j,k] == 0:\n",
    "                            final_segmentation[i,j,k] = 0\n",
    "                        #when the first is negative and the second positive we want the value of the second:\n",
    "                        if segmentation_list[seg_number][i,j,k] != 0:\n",
    "                            final_segmentation[i,j,k] = seg_number + 1\n",
    "\n",
    "    return final_segmentation\n",
    "\n",
    "\n",
    "def pool_pooled_segmenations(segmentation_list,segdata):\n",
    "    #create an empty dataframe with the same dimensions(try and except because tri20 has no fuseAI segmentation)\n",
    "\n",
    "    final__segmentation =  segdata * 0\n",
    "    segmentation_number = 0\n",
    "    for segmentation_number in range(len(segmentation_list)): #only add them up, if there are at least 2 segmentations left:\n",
    "        #if there is a pooled segmentation:\n",
    "        if not not len(segmentation_list[segmentation_number]):\n",
    "\n",
    "            #loop trough all pixels:\n",
    "            for i in range(segmentation_list[segmentation_number].shape[0]):\n",
    "                for j in range(segmentation_list[segmentation_number].shape[1]):\n",
    "                    for k in range(segmentation_list[segmentation_number].shape[2]):\n",
    "                        \n",
    "                        #when the second segmentation is positive:\n",
    "                        if segmentation_list[segmentation_number][i,j,k] == segmentation_number + 1:\n",
    "                            #when the pooling segmentation is not zero, we make it an 8 for overlap:\n",
    "                            if final__segmentation[i,j,k] != 0:\n",
    "                                final__segmentation[i,j,k] = 8\n",
    "                            #when the pooling segmentation is zero, we add the value of the second segmentation:\n",
    "                            if final__segmentation[i,j,k] == 0:\n",
    "                                final__segmentation[i,j,k] = segmentation_number + 1\n",
    "                        #when the second segmentation is negative:\n",
    "                        if segmentation_list[segmentation_number][i,j,k] == 0:\n",
    "                            continue\n",
    "\n",
    "        segmentation_number = segmentation_number + 1\n",
    "\n",
    "    return final__segmentation\n",
    "\n",
    "def load_image_meatadata(Reader, lesion_name):\n",
    "    import_folder = 'E:\\\\ksa_study_data\\\\' + lesion_name.split('_')[0]\n",
    "    lesion = lesion_name.split('_')[2] + '-' + lesion_name.split('_')[3]\n",
    "    Case = lesion_name.split('_')[0] + '-' + lesion_name.split('_')[1]\n",
    "    try:\n",
    "        pirads_value = str(pirads.loc[lesion_name.split('_')[0] + '_'+ lesion_name.split('_')[1] + '_' + lesion + '_' + Reader + '_t2w','PIRADS'])\n",
    "    except:\n",
    "        return None\n",
    "    \n",
    "    filename = import_folder + '\\\\'+ Case + '\\\\'+ Case + '_t2w_' + lesion + '--p-'+ str(pirads_value) +'--g-0_' + Reader + '.nii.gz'\n",
    "    seg = nib.load(filename)\n",
    "    return (seg.affine, seg.header)\n",
    "\n",
    "def get_metadatafile(n_xlayers,n_zlayers):\n",
    "    #for the bellinzona files\n",
    "    if n_zlayers == 24 and n_xlayers == 512:\n",
    "        seg = nib.load(\"E:/ksa_study_data/converted_files/pooled_segmentations/bell_0001_pcai100_auto_t2w_test.nii\")\n",
    "        segaffine = seg.affine\n",
    "        segheader = seg.header\n",
    "        segdata = seg.get_fdata()\n",
    "        return (segdata, segaffine, segheader)\n",
    "    \n",
    "    if n_zlayers == 26 and n_xlayers == 512:\n",
    "        seg = nib.load(\"E:/ksa_study_data/converted_files/pooled_segmentations/bell-0017_t2w_les-0--p-1--g-0_pcai100_auto_test.nii.gz\")\n",
    "        segaffine = seg.affine\n",
    "        segheader = seg.header\n",
    "        segdata = seg.get_fdata()\n",
    "        return (segdata, segaffine, segheader)\n",
    "    \n",
    "    if n_zlayers == 24 and n_xlayers == 576:\n",
    "        seg = nib.load(\"E:/ksa_study_data/converted_files/pooled_segmentations/bell-0033_t2w_les-0--p-1--g-0_pcai100_auto_test.nii.gz\")\n",
    "        segaffine = seg.affine\n",
    "        segheader = seg.header\n",
    "        segdata = seg.get_fdata()\n",
    "        return (segdata, segaffine, segheader)\n",
    "    \n",
    "    #for the ksa files\n",
    "    if n_zlayers == 22 and n_xlayers == 512:\n",
    "        seg = nib.load(\"E:/ksa_study_data/converted_files/pooled_segmentations/ksa3-0006_t2w_les-0--p-1--g-0_pcai100_auto_test.nii.gz\")\n",
    "        segaffine = seg.affine\n",
    "        segheader = seg.header\n",
    "        segdata = seg.get_fdata()\n",
    "        return (segdata, segaffine, segheader)\n",
    "    \n",
    "\n",
    "    if n_zlayers == 25 and n_xlayers == 512:\n",
    "        seg = nib.load(\"E:/ksa_study_data/converted_files/pooled_segmentations/ksa3-0751_t2w_les-0--p-1--g-0_pcai100_auto_test.nii.gz\")\n",
    "        segaffine = seg.affine\n",
    "        segheader = seg.header\n",
    "        segdata = seg.get_fdata()\n",
    "        return (segdata, segaffine, segheader)\n",
    "    \n",
    "    if n_zlayers == 23 and n_xlayers == 512:\n",
    "        seg = nib.load(\"E:/ksa_study_data/converted_files/pooled_segmentations/ksa3-0945_t2w_les-0--p-1--g-0_pcai100_auto_test.nii.gz\")\n",
    "        segaffine = seg.affine\n",
    "        segheader = seg.header\n",
    "        segdata = seg.get_fdata()\n",
    "        return (segdata, segaffine, segheader)\n",
    "    \n",
    "    #for the triemli files\n",
    "    if n_zlayers == 20 and n_xlayers == 512:\n",
    "        seg = nib.load(\"E:/ksa_study_data/converted_files/pooled_segmentations/tri-0002_t2w_les-0--p-4--g-0_rad2_ass_test.nii.gz\")\n",
    "        segaffine = seg.affine\n",
    "        segheader = seg.header\n",
    "        segdata = seg.get_fdata()\n",
    "        return (segdata, segaffine, segheader)\n",
    "\n",
    "\n",
    "    "
   ]
  },
  {
   "cell_type": "markdown",
   "metadata": {},
   "source": [
    "# For each Case, put all segmentations into a single file"
   ]
  },
  {
   "cell_type": "markdown",
   "metadata": {},
   "source": [
    " For each Case, each reader and annotation type gets a specific colour, which is consistend across Cases. Also the \n",
    " overlaps have a specific colour.\n",
    "\n",
    " Colours: (so the pixel value is consistent)\n",
    " Fusion-AI: 1\n",
    " rad1_rad: 2\n",
    " rad1_ass: 3\n",
    " rad2_rad: 4\n",
    " rad2_ass: 5\n",
    " rad3_rad: 6\n",
    " rad3_ass: 7\n",
    " overlap: 8"
   ]
  },
  {
   "cell_type": "code",
   "execution_count": 158,
   "metadata": {},
   "outputs": [
    {
     "name": "stderr",
     "output_type": "stream",
     "text": [
      "  0%|          | 0/67 [00:00<?, ?it/s]"
     ]
    },
    {
     "name": "stdout",
     "output_type": "stream",
     "text": [
      "0\n",
      "1\n",
      "0\n",
      "1\n"
     ]
    },
    {
     "name": "stderr",
     "output_type": "stream",
     "text": [
      "  1%|▏         | 1/67 [01:17<1:25:40, 77.89s/it]"
     ]
    },
    {
     "name": "stdout",
     "output_type": "stream",
     "text": [
      "0\n",
      "1\n"
     ]
    },
    {
     "name": "stderr",
     "output_type": "stream",
     "text": [
      "  3%|▎         | 2/67 [02:13<1:10:18, 64.90s/it]"
     ]
    },
    {
     "name": "stdout",
     "output_type": "stream",
     "text": [
      "0\n",
      "1\n",
      "0\n",
      "1\n",
      "0\n",
      "1\n",
      "0\n",
      "1\n"
     ]
    },
    {
     "name": "stderr",
     "output_type": "stream",
     "text": [
      "  6%|▌         | 4/67 [04:39<1:08:38, 65.38s/it]"
     ]
    },
    {
     "name": "stdout",
     "output_type": "stream",
     "text": [
      "0\n",
      "1\n",
      "2\n",
      "3\n",
      "4\n",
      "0\n",
      "1\n",
      "0\n",
      "1\n"
     ]
    },
    {
     "name": "stderr",
     "output_type": "stream",
     "text": [
      "  7%|▋         | 5/67 [06:42<1:28:50, 85.97s/it]"
     ]
    },
    {
     "name": "stdout",
     "output_type": "stream",
     "text": [
      "0\n",
      "1\n",
      "2\n"
     ]
    },
    {
     "name": "stderr",
     "output_type": "stream",
     "text": [
      " 10%|█         | 7/67 [08:42<1:09:52, 69.87s/it]"
     ]
    },
    {
     "name": "stdout",
     "output_type": "stream",
     "text": [
      "0\n",
      "1\n",
      "2\n",
      "3\n",
      "4\n",
      "0\n",
      "1\n"
     ]
    },
    {
     "name": "stderr",
     "output_type": "stream",
     "text": [
      " 12%|█▏        | 8/67 [10:56<1:28:46, 90.29s/it]"
     ]
    },
    {
     "name": "stdout",
     "output_type": "stream",
     "text": [
      "0\n",
      "1\n",
      "2\n",
      "3\n",
      "4\n",
      "5\n",
      "6\n",
      "7\n",
      "8\n",
      "0\n",
      "1\n",
      "2\n",
      "0\n",
      "1\n"
     ]
    },
    {
     "name": "stderr",
     "output_type": "stream",
     "text": [
      " 13%|█▎        | 9/67 [16:12<2:35:21, 160.72s/it]"
     ]
    },
    {
     "name": "stdout",
     "output_type": "stream",
     "text": [
      "0\n",
      "1\n",
      "0\n",
      "1\n",
      "0\n",
      "1\n"
     ]
    },
    {
     "name": "stderr",
     "output_type": "stream",
     "text": [
      " 15%|█▍        | 10/67 [19:45<2:48:17, 177.16s/it]"
     ]
    },
    {
     "name": "stdout",
     "output_type": "stream",
     "text": [
      "0\n",
      "1\n"
     ]
    },
    {
     "name": "stderr",
     "output_type": "stream",
     "text": [
      " 16%|█▋        | 11/67 [20:52<2:13:47, 143.35s/it]"
     ]
    },
    {
     "name": "stdout",
     "output_type": "stream",
     "text": [
      "0\n",
      "1\n",
      "2\n",
      "0\n",
      "1\n",
      "2\n"
     ]
    },
    {
     "name": "stderr",
     "output_type": "stream",
     "text": [
      " 18%|█▊        | 12/67 [23:27<2:14:41, 146.93s/it]"
     ]
    },
    {
     "name": "stdout",
     "output_type": "stream",
     "text": [
      "0\n",
      "1\n",
      "2\n"
     ]
    },
    {
     "name": "stderr",
     "output_type": "stream",
     "text": [
      " 19%|█▉        | 13/67 [25:07<1:59:23, 132.65s/it]"
     ]
    },
    {
     "name": "stdout",
     "output_type": "stream",
     "text": [
      "0\n",
      "1\n",
      "2\n",
      "3\n",
      "4\n",
      "5\n",
      "6\n",
      "0\n",
      "1\n",
      "0\n",
      "1\n",
      "2\n",
      "0\n",
      "1\n",
      "0\n",
      "1\n",
      "0\n",
      "1\n",
      "2\n",
      "3\n"
     ]
    },
    {
     "name": "stderr",
     "output_type": "stream",
     "text": [
      " 21%|██        | 14/67 [31:05<2:57:24, 200.84s/it]"
     ]
    },
    {
     "name": "stdout",
     "output_type": "stream",
     "text": [
      "0\n",
      "1\n"
     ]
    },
    {
     "name": "stderr",
     "output_type": "stream",
     "text": [
      " 22%|██▏       | 15/67 [32:09<2:18:05, 159.33s/it]"
     ]
    },
    {
     "name": "stdout",
     "output_type": "stream",
     "text": [
      "0\n",
      "1\n",
      "2\n",
      "3\n",
      "4\n",
      "0\n",
      "1\n",
      "0\n",
      "1\n",
      "2\n",
      "0\n",
      "1\n"
     ]
    },
    {
     "name": "stderr",
     "output_type": "stream",
     "text": [
      " 24%|██▍       | 16/67 [34:54<2:16:54, 161.06s/it]"
     ]
    },
    {
     "name": "stdout",
     "output_type": "stream",
     "text": [
      "0\n",
      "1\n",
      "2\n",
      "3\n",
      "4\n"
     ]
    },
    {
     "name": "stderr",
     "output_type": "stream",
     "text": [
      " 25%|██▌       | 17/67 [35:45<1:46:49, 128.20s/it]"
     ]
    },
    {
     "name": "stdout",
     "output_type": "stream",
     "text": [
      "0\n",
      "1\n",
      "2\n",
      "3\n",
      "4\n",
      "5\n",
      "6\n",
      "7\n",
      "8\n",
      "9\n",
      "0\n",
      "1\n"
     ]
    },
    {
     "name": "stderr",
     "output_type": "stream",
     "text": [
      " 27%|██▋       | 18/67 [37:58<1:45:43, 129.45s/it]"
     ]
    },
    {
     "name": "stdout",
     "output_type": "stream",
     "text": [
      "0\n",
      "1\n",
      "2\n",
      "3\n",
      "4\n",
      "5\n",
      "6\n",
      "7\n"
     ]
    },
    {
     "name": "stderr",
     "output_type": "stream",
     "text": [
      " 28%|██▊       | 19/67 [39:21<1:32:30, 115.64s/it]"
     ]
    },
    {
     "name": "stdout",
     "output_type": "stream",
     "text": [
      "0\n",
      "1\n",
      "2\n",
      "3\n",
      "4\n",
      "0\n",
      "1\n",
      "0\n",
      "1\n",
      "0\n",
      "1\n"
     ]
    },
    {
     "name": "stderr",
     "output_type": "stream",
     "text": [
      " 30%|██▉       | 20/67 [41:28<1:33:05, 118.85s/it]"
     ]
    },
    {
     "name": "stdout",
     "output_type": "stream",
     "text": [
      "0\n",
      "1\n",
      "2\n",
      "3\n",
      "4\n",
      "0\n",
      "1\n",
      "0\n",
      "1\n"
     ]
    },
    {
     "name": "stderr",
     "output_type": "stream",
     "text": [
      " 31%|███▏      | 21/67 [43:09<1:26:58, 113.46s/it]"
     ]
    },
    {
     "name": "stdout",
     "output_type": "stream",
     "text": [
      "0\n",
      "1\n",
      "2\n",
      "0\n",
      "1\n"
     ]
    },
    {
     "name": "stderr",
     "output_type": "stream",
     "text": [
      " 33%|███▎      | 22/67 [44:17<1:15:00, 100.00s/it]"
     ]
    },
    {
     "name": "stdout",
     "output_type": "stream",
     "text": [
      "0\n",
      "1\n",
      "2\n",
      "3\n",
      "4\n",
      "5\n",
      "0\n",
      "1\n",
      "0\n",
      "1\n",
      "2\n",
      "3\n",
      "0\n",
      "1\n",
      "2\n",
      "0\n",
      "1\n",
      "2\n",
      "0\n",
      "1\n"
     ]
    },
    {
     "name": "stderr",
     "output_type": "stream",
     "text": [
      " 34%|███▍      | 23/67 [47:33<1:34:28, 128.84s/it]"
     ]
    },
    {
     "name": "stdout",
     "output_type": "stream",
     "text": [
      "0\n",
      "1\n"
     ]
    },
    {
     "name": "stderr",
     "output_type": "stream",
     "text": [
      " 36%|███▌      | 24/67 [47:54<1:09:06, 96.43s/it] "
     ]
    },
    {
     "name": "stdout",
     "output_type": "stream",
     "text": [
      "0\n",
      "1\n",
      "2\n",
      "3\n",
      "4\n",
      "5\n",
      "6\n",
      "7\n",
      "8\n",
      "9\n",
      "10\n",
      "0\n",
      "1\n",
      "2\n",
      "3\n",
      "0\n",
      "1\n",
      "0\n",
      "1\n",
      "0\n",
      "1\n",
      "2\n",
      "3\n"
     ]
    },
    {
     "name": "stderr",
     "output_type": "stream",
     "text": [
      " 37%|███▋      | 25/67 [51:29<1:32:27, 132.09s/it]"
     ]
    },
    {
     "name": "stdout",
     "output_type": "stream",
     "text": [
      "0\n",
      "1\n"
     ]
    },
    {
     "name": "stderr",
     "output_type": "stream",
     "text": [
      " 39%|███▉      | 26/67 [51:50<1:07:25, 98.67s/it] "
     ]
    },
    {
     "name": "stdout",
     "output_type": "stream",
     "text": [
      "0\n",
      "1\n",
      "2\n",
      "3\n",
      "4\n",
      "5\n",
      "6\n",
      "7\n",
      "8\n"
     ]
    },
    {
     "name": "stderr",
     "output_type": "stream",
     "text": [
      " 40%|████      | 27/67 [53:29<1:05:49, 98.75s/it]"
     ]
    },
    {
     "name": "stdout",
     "output_type": "stream",
     "text": [
      "0\n",
      "1\n",
      "2\n",
      "3\n",
      "4\n"
     ]
    },
    {
     "name": "stderr",
     "output_type": "stream",
     "text": [
      " 42%|████▏     | 28/67 [54:14<53:44, 82.69s/it]  "
     ]
    },
    {
     "name": "stdout",
     "output_type": "stream",
     "text": [
      "0\n",
      "1\n",
      "2\n",
      "3\n",
      "0\n",
      "1\n"
     ]
    },
    {
     "name": "stderr",
     "output_type": "stream",
     "text": [
      " 43%|████▎     | 29/67 [55:37<52:25, 82.78s/it]"
     ]
    },
    {
     "name": "stdout",
     "output_type": "stream",
     "text": [
      "0\n",
      "1\n",
      "2\n",
      "3\n",
      "4\n",
      "5\n",
      "6\n",
      "7\n"
     ]
    },
    {
     "name": "stderr",
     "output_type": "stream",
     "text": [
      " 45%|████▍     | 30/67 [57:28<56:17, 91.29s/it]"
     ]
    },
    {
     "name": "stdout",
     "output_type": "stream",
     "text": [
      "0\n",
      "1\n",
      "2\n",
      "3\n",
      "4\n",
      "5\n",
      "6\n",
      "7\n",
      "8\n",
      "0\n",
      "1\n",
      "0\n",
      "1\n"
     ]
    },
    {
     "name": "stderr",
     "output_type": "stream",
     "text": [
      " 46%|████▋     | 31/67 [59:33<1:00:41, 101.15s/it]"
     ]
    },
    {
     "name": "stdout",
     "output_type": "stream",
     "text": [
      "0\n",
      "1\n",
      "2\n",
      "3\n",
      "4\n",
      "5\n",
      "6\n",
      "0\n",
      "1\n",
      "2\n",
      "0\n",
      "1\n"
     ]
    },
    {
     "name": "stderr",
     "output_type": "stream",
     "text": [
      " 48%|████▊     | 32/67 [1:01:35<1:02:49, 107.69s/it]"
     ]
    },
    {
     "name": "stdout",
     "output_type": "stream",
     "text": [
      "0\n",
      "1\n",
      "2\n",
      "3\n",
      "4\n",
      "0\n",
      "1\n",
      "0\n",
      "1\n"
     ]
    },
    {
     "name": "stderr",
     "output_type": "stream",
     "text": [
      " 49%|████▉     | 33/67 [1:03:27<1:01:43, 108.93s/it]"
     ]
    },
    {
     "name": "stdout",
     "output_type": "stream",
     "text": [
      "0\n",
      "1\n",
      "2\n",
      "3\n",
      "4\n",
      "5\n",
      "6\n",
      "7\n",
      "8\n",
      "9\n"
     ]
    },
    {
     "name": "stderr",
     "output_type": "stream",
     "text": [
      " 51%|█████     | 34/67 [1:04:53<56:02, 101.90s/it]  "
     ]
    },
    {
     "name": "stdout",
     "output_type": "stream",
     "text": [
      "0\n",
      "1\n",
      "2\n",
      "3\n",
      "4\n",
      "5\n"
     ]
    },
    {
     "name": "stderr",
     "output_type": "stream",
     "text": [
      " 52%|█████▏    | 35/67 [8:36:28<72:53:14, 8199.83s/it]"
     ]
    },
    {
     "name": "stdout",
     "output_type": "stream",
     "text": [
      "0\n",
      "1\n",
      "2\n",
      "3\n",
      "4\n",
      "5\n",
      "6\n",
      "7\n",
      "8\n",
      "0\n",
      "1\n",
      "0\n",
      "1\n",
      "2\n",
      "0\n",
      "1\n"
     ]
    },
    {
     "name": "stderr",
     "output_type": "stream",
     "text": [
      " 54%|█████▎    | 36/67 [8:39:39<49:55:16, 5797.32s/it]"
     ]
    },
    {
     "name": "stdout",
     "output_type": "stream",
     "text": [
      "0\n",
      "1\n",
      "2\n",
      "3\n",
      "4\n",
      "5\n",
      "6\n",
      "0\n",
      "1\n"
     ]
    },
    {
     "name": "stderr",
     "output_type": "stream",
     "text": [
      " 55%|█████▌    | 37/67 [8:41:29<34:05:28, 4090.96s/it]"
     ]
    },
    {
     "name": "stdout",
     "output_type": "stream",
     "text": [
      "0\n",
      "1\n",
      "2\n",
      "3\n",
      "0\n",
      "1\n",
      "0\n",
      "1\n"
     ]
    },
    {
     "name": "stderr",
     "output_type": "stream",
     "text": [
      " 57%|█████▋    | 38/67 [8:43:12<23:19:10, 2894.83s/it]"
     ]
    },
    {
     "name": "stdout",
     "output_type": "stream",
     "text": [
      "0\n",
      "1\n",
      "2\n",
      "3\n"
     ]
    },
    {
     "name": "stderr",
     "output_type": "stream",
     "text": [
      " 58%|█████▊    | 39/67 [8:43:57<15:51:54, 2039.79s/it]"
     ]
    },
    {
     "name": "stdout",
     "output_type": "stream",
     "text": [
      "0\n",
      "1\n",
      "2\n",
      "3\n"
     ]
    },
    {
     "name": "stderr",
     "output_type": "stream",
     "text": [
      " 60%|█████▉    | 40/67 [8:44:36<10:47:43, 1439.40s/it]"
     ]
    },
    {
     "name": "stdout",
     "output_type": "stream",
     "text": [
      "0\n",
      "1\n",
      "2\n",
      "3\n",
      "4\n"
     ]
    },
    {
     "name": "stderr",
     "output_type": "stream",
     "text": [
      " 61%|██████    | 41/67 [8:45:45<7:25:39, 1028.45s/it] "
     ]
    },
    {
     "name": "stdout",
     "output_type": "stream",
     "text": [
      "0\n",
      "1\n",
      "2\n",
      "3\n",
      "0\n",
      "1\n"
     ]
    },
    {
     "name": "stderr",
     "output_type": "stream",
     "text": [
      " 63%|██████▎   | 42/67 [8:47:13<5:10:55, 746.22s/it] "
     ]
    },
    {
     "name": "stdout",
     "output_type": "stream",
     "text": [
      "0\n",
      "1\n"
     ]
    },
    {
     "name": "stderr",
     "output_type": "stream",
     "text": [
      " 64%|██████▍   | 43/67 [8:47:41<3:32:21, 530.88s/it]"
     ]
    },
    {
     "name": "stdout",
     "output_type": "stream",
     "text": [
      "0\n",
      "1\n",
      "2\n",
      "0\n",
      "1\n",
      "2\n"
     ]
    },
    {
     "name": "stderr",
     "output_type": "stream",
     "text": [
      " 66%|██████▌   | 44/67 [8:48:59<2:31:23, 394.93s/it]"
     ]
    },
    {
     "name": "stdout",
     "output_type": "stream",
     "text": [
      "0\n",
      "1\n",
      "2\n",
      "3\n",
      "4\n",
      "5\n",
      "6\n",
      "0\n",
      "1\n",
      "2\n",
      "3\n",
      "4\n",
      "5\n",
      "6\n",
      "0\n",
      "1\n"
     ]
    },
    {
     "name": "stderr",
     "output_type": "stream",
     "text": [
      " 67%|██████▋   | 45/67 [8:51:49<2:00:04, 327.47s/it]"
     ]
    },
    {
     "name": "stdout",
     "output_type": "stream",
     "text": [
      "0\n",
      "1\n",
      "0\n",
      "1\n",
      "0\n",
      "1\n",
      "0\n",
      "1\n",
      "2\n"
     ]
    },
    {
     "name": "stderr",
     "output_type": "stream",
     "text": [
      " 70%|███████   | 47/67 [8:54:18<1:04:39, 193.99s/it]"
     ]
    },
    {
     "name": "stdout",
     "output_type": "stream",
     "text": [
      "0\n",
      "1\n",
      "2\n",
      "3\n",
      "4\n",
      "5\n",
      "6\n",
      "0\n",
      "1\n"
     ]
    },
    {
     "name": "stderr",
     "output_type": "stream",
     "text": [
      " 72%|███████▏  | 48/67 [8:56:27<55:11, 174.28s/it]  "
     ]
    },
    {
     "name": "stdout",
     "output_type": "stream",
     "text": [
      "0\n",
      "1\n",
      "2\n",
      "0\n",
      "1\n",
      "2\n",
      "0\n",
      "1\n",
      "0\n",
      "1\n",
      "2\n"
     ]
    },
    {
     "name": "stderr",
     "output_type": "stream",
     "text": [
      " 73%|███████▎  | 49/67 [8:58:52<49:41, 165.66s/it]"
     ]
    },
    {
     "name": "stdout",
     "output_type": "stream",
     "text": [
      "0\n",
      "1\n",
      "2\n",
      "3\n",
      "4\n",
      "0\n",
      "1\n",
      "0\n",
      "1\n",
      "0\n",
      "1\n",
      "2\n",
      "0\n",
      "1\n",
      "2\n"
     ]
    },
    {
     "name": "stderr",
     "output_type": "stream",
     "text": [
      " 75%|███████▍  | 50/67 [9:01:53<48:11, 170.09s/it]"
     ]
    },
    {
     "name": "stdout",
     "output_type": "stream",
     "text": [
      "0\n",
      "1\n",
      "0\n",
      "1\n"
     ]
    },
    {
     "name": "stderr",
     "output_type": "stream",
     "text": [
      " 76%|███████▌  | 51/67 [9:03:05<37:31, 140.75s/it]"
     ]
    },
    {
     "name": "stdout",
     "output_type": "stream",
     "text": [
      "0\n",
      "1\n",
      "2\n",
      "3\n",
      "4\n",
      "5\n",
      "0\n",
      "1\n",
      "2\n",
      "0\n",
      "1\n",
      "0\n",
      "1\n"
     ]
    },
    {
     "name": "stderr",
     "output_type": "stream",
     "text": [
      " 78%|███████▊  | 52/67 [9:05:51<37:02, 148.19s/it]"
     ]
    },
    {
     "name": "stdout",
     "output_type": "stream",
     "text": [
      "0\n",
      "1\n",
      "2\n",
      "3\n",
      "0\n",
      "1\n",
      "0\n",
      "1\n"
     ]
    },
    {
     "name": "stderr",
     "output_type": "stream",
     "text": [
      " 79%|███████▉  | 53/67 [9:07:55<32:54, 141.03s/it]"
     ]
    },
    {
     "name": "stdout",
     "output_type": "stream",
     "text": [
      "0\n",
      "1\n",
      "2\n",
      "0\n",
      "1\n",
      "0\n",
      "1\n",
      "0\n",
      "1\n",
      "2\n",
      "3\n",
      "0\n",
      "1\n",
      "0\n",
      "1\n",
      "2\n",
      "0\n",
      "1\n"
     ]
    },
    {
     "name": "stderr",
     "output_type": "stream",
     "text": [
      " 81%|████████  | 54/67 [9:11:27<35:11, 162.41s/it]"
     ]
    },
    {
     "name": "stdout",
     "output_type": "stream",
     "text": [
      "0\n",
      "1\n",
      "2\n",
      "0\n",
      "1\n",
      "2\n"
     ]
    },
    {
     "name": "stderr",
     "output_type": "stream",
     "text": [
      " 82%|████████▏ | 55/67 [9:13:14<29:06, 145.58s/it]"
     ]
    },
    {
     "name": "stdout",
     "output_type": "stream",
     "text": [
      "0\n",
      "1\n"
     ]
    },
    {
     "name": "stderr",
     "output_type": "stream",
     "text": [
      " 84%|████████▎ | 56/67 [9:13:47<20:33, 112.09s/it]"
     ]
    },
    {
     "name": "stdout",
     "output_type": "stream",
     "text": [
      "0\n",
      "1\n"
     ]
    },
    {
     "name": "stderr",
     "output_type": "stream",
     "text": [
      " 85%|████████▌ | 57/67 [9:14:36<15:29, 92.92s/it] "
     ]
    },
    {
     "name": "stdout",
     "output_type": "stream",
     "text": [
      "0\n",
      "1\n"
     ]
    },
    {
     "name": "stderr",
     "output_type": "stream",
     "text": [
      " 87%|████████▋ | 58/67 [9:15:09<11:14, 74.92s/it]"
     ]
    },
    {
     "name": "stdout",
     "output_type": "stream",
     "text": [
      "0\n",
      "1\n",
      "0\n",
      "1\n",
      "0\n",
      "1\n"
     ]
    },
    {
     "name": "stderr",
     "output_type": "stream",
     "text": [
      " 88%|████████▊ | 59/67 [9:16:53<11:10, 83.87s/it]"
     ]
    },
    {
     "name": "stdout",
     "output_type": "stream",
     "text": [
      "0\n",
      "1\n",
      "0\n",
      "1\n",
      "0\n",
      "1\n"
     ]
    },
    {
     "name": "stderr",
     "output_type": "stream",
     "text": [
      " 90%|████████▉ | 60/67 [9:18:39<10:32, 90.29s/it]"
     ]
    },
    {
     "name": "stdout",
     "output_type": "stream",
     "text": [
      "0\n",
      "1\n",
      "2\n",
      "3\n",
      "4\n",
      "5\n",
      "0\n",
      "1\n",
      "2\n",
      "3\n",
      "4\n",
      "5\n",
      "0\n",
      "1\n",
      "0\n",
      "1\n",
      "2\n",
      "3\n"
     ]
    },
    {
     "name": "stderr",
     "output_type": "stream",
     "text": [
      " 91%|█████████ | 61/67 [9:22:10<12:39, 126.56s/it]"
     ]
    },
    {
     "name": "stdout",
     "output_type": "stream",
     "text": [
      "0\n",
      "1\n",
      "0\n",
      "1\n",
      "0\n",
      "1\n"
     ]
    },
    {
     "name": "stderr",
     "output_type": "stream",
     "text": [
      " 93%|█████████▎| 62/67 [9:23:55<10:00, 120.16s/it]"
     ]
    },
    {
     "name": "stdout",
     "output_type": "stream",
     "text": [
      "0\n",
      "1\n",
      "2\n",
      "0\n",
      "1\n",
      "2\n",
      "0\n",
      "1\n"
     ]
    },
    {
     "name": "stderr",
     "output_type": "stream",
     "text": [
      " 94%|█████████▍| 63/67 [9:25:52<07:56, 119.16s/it]"
     ]
    },
    {
     "name": "stdout",
     "output_type": "stream",
     "text": [
      "0\n",
      "1\n",
      "2\n"
     ]
    },
    {
     "name": "stderr",
     "output_type": "stream",
     "text": [
      " 96%|█████████▌| 64/67 [9:26:38<04:52, 97.38s/it] "
     ]
    },
    {
     "name": "stdout",
     "output_type": "stream",
     "text": [
      "0\n",
      "1\n",
      "0\n",
      "1\n"
     ]
    },
    {
     "name": "stderr",
     "output_type": "stream",
     "text": [
      " 97%|█████████▋| 65/67 [9:28:06<03:08, 94.40s/it]"
     ]
    },
    {
     "name": "stdout",
     "output_type": "stream",
     "text": [
      "0\n",
      "1\n",
      "2\n",
      "3\n",
      "4\n",
      "5\n",
      "0\n",
      "1\n",
      "0\n",
      "1\n",
      "2\n",
      "0\n",
      "1\n",
      "2\n",
      "0\n",
      "1\n",
      "2\n",
      "3\n",
      "0\n",
      "1\n",
      "2\n",
      "3\n",
      "0\n",
      "1\n",
      "2\n",
      "3\n"
     ]
    },
    {
     "name": "stderr",
     "output_type": "stream",
     "text": [
      " 99%|█████████▊| 66/67 [9:32:54<02:32, 152.39s/it]"
     ]
    },
    {
     "name": "stdout",
     "output_type": "stream",
     "text": [
      "0\n",
      "1\n",
      "0\n",
      "1\n",
      "2\n",
      "3\n",
      "0\n",
      "1\n",
      "2\n",
      "3\n",
      "0\n",
      "1\n",
      "2\n",
      "3\n"
     ]
    },
    {
     "name": "stderr",
     "output_type": "stream",
     "text": [
      "100%|██████████| 67/67 [9:35:46<00:00, 515.61s/it]\n"
     ]
    }
   ],
   "source": [
    "#For each Case, Make an individual segmentation file:\n",
    "\n",
    "#Get all the Cases:\n",
    "Cases = list(translation['Case'])\n",
    "Cases.append('bell_0045')\n",
    "\n",
    "#load a test file, which we need to copy to have a working filemetadata to save the segmentations:\n",
    "    # seg = nib.load(\"E:/ksa_study_data/converted_files/pooled_segmentations/bell_0001_pcai100_auto_t2w_test.nii\")\n",
    "    # segaffine = seg.affine\n",
    "    # segheader = seg.header\n",
    "    # segdata = seg.get_fdata()\n",
    "\n",
    "for Case in tqdm(Cases):\n",
    "    \n",
    "    #Get the Case name with the '-':\n",
    "    Case_name = Case.split('_')[0] + '-' + Case.split('_')[1]\n",
    "    #Get only the filenames for the specific Case:\n",
    "    Case_segmentations = [i for i in lesion_filenames if i.startswith(Case_name)]\n",
    "\n",
    "    #If there is more than one predicted lesion for a reader, we pool the prediction. \n",
    "    filenames_of_segs_to_get_pooled = get_filenames_of_Case(Case_segmentations)\n",
    "    \n",
    "    test_list = []\n",
    "    combined_Reader_segmentations_list = []\n",
    "\n",
    "    #For each Entry of this dataframe, calculate the IoU:\n",
    "    for i, ReaderX_filename in enumerate(filenames_of_segs_to_get_pooled):\n",
    "        #Get the combined segmentation for this Reader (row):\n",
    "        if not not ReaderX_filename: #when the list is not empty, so there is a lesion of this reader:\n",
    "            Reader = ReaderX_filename[0].split('_')[-2].split('.')[0]\n",
    "            annot_type = ReaderX_filename[0].split('_')[-1].split('.')[0]\n",
    "\n",
    "            #For each Reader, get the pooled lesions and add it to a list with the pixel vlaues changed according to the values in the markdown.\n",
    "            seg_info = get_list_of_segmentations(filenames_of_segs_to_get_pooled[i])\n",
    "            #get the metadata:\n",
    "            segdata, affine, header = get_metadatafile(seg_info[0][0].shape[0],seg_info[0][0].shape[2])\n",
    "\n",
    "            #Make a nonbinary segmentation mask for each Reader:\n",
    "            Case_pooled_Reader_segmentation_nonbinary = summed_segmentations_nonbinary(seg_info[0],segdata)\n",
    "            test_list.append(Case_pooled_Reader_segmentation_nonbinary)\n",
    "            #for each Reader, save the combined file of only this reader:\n",
    "            seg_converted = nib.Nifti1Image(Case_pooled_Reader_segmentation_nonbinary, affine, header)\n",
    "            save_path = f\"E:/ksa_study_data/converted_files/pooled_segmentations/{Case}\"\n",
    "            if not os.path.exists(save_path):\n",
    "                os.makedirs(save_path)\n",
    "            nib.save(seg_converted, f\"{save_path}/{Case}_{Reader}_{annot_type}_t2w_.nii\")\n",
    "\n",
    "\n",
    "            #Make a binary segmentation mask for the file where all Readers are combined:\n",
    "            auto_segmentations = summed_segmentations(seg_info[0])\n",
    "            Case_pooled_segmentation_binary = make_binary_array(Case_pooled_Reader_segmentation_nonbinary)\n",
    "            Case_pooled_segmentation_binary = change_pixel_value(Case_pooled_segmentation_binary,i+1)\n",
    "            combined_Reader_segmentations_list.append(Case_pooled_segmentation_binary)\n",
    "\n",
    "        else:\n",
    "            combined_Reader_segmentations_list.append([])\n",
    "\n",
    "    #pool the pooled lesions segmentations into a single file:\n",
    "    Case_segmentation = pool_pooled_segmenations(combined_Reader_segmentations_list,segdata)\n",
    "    \n",
    "    #create pooled pooled lesions file:\n",
    "    seg_converted_pooled = nib.Nifti1Image(Case_segmentation, affine, header)\n",
    "    save_path = f\"E:/ksa_study_data/converted_files/pooled_segmentations/{Case}\"\n",
    "\n",
    "    if not os.path.exists(save_path):\n",
    "        os.makedirs(save_path)\n",
    "    nib.save(seg_converted_pooled, f\"{save_path}/{Case}_t2w_.nii\")\n",
    "    "
   ]
  }
 ],
 "metadata": {
  "kernelspec": {
   "display_name": "segmentationenv",
   "language": "python",
   "name": "python3"
  },
  "language_info": {
   "codemirror_mode": {
    "name": "ipython",
    "version": 3
   },
   "file_extension": ".py",
   "mimetype": "text/x-python",
   "name": "python",
   "nbconvert_exporter": "python",
   "pygments_lexer": "ipython3",
   "version": "3.11.5"
  }
 },
 "nbformat": 4,
 "nbformat_minor": 2
}
